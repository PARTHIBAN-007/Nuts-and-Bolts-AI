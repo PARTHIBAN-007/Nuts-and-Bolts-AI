{
 "cells": [
  {
   "cell_type": "code",
   "execution_count": 5,
   "id": "20561d07",
   "metadata": {},
   "outputs": [
    {
     "data": {
      "text/plain": [
       "((5, 2), (2, 1), (1, 1))"
      ]
     },
     "execution_count": 5,
     "metadata": {},
     "output_type": "execute_result"
    }
   ],
   "source": [
    "import numpy as np\n",
    "\n",
    "\n",
    "x = np.array([[1,1],\n",
    "            [1.5,2],\n",
    "            [2,2],\n",
    "            [2.5,3],\n",
    "            [3,4]])\n",
    "\n",
    "w = np.array([\n",
    "    [10],[2]\n",
    "])\n",
    "\n",
    "b = np.array([[2]])\n",
    "\n",
    "x.shape,w.shape,b.shape"
   ]
  },
  {
   "cell_type": "code",
   "execution_count": 6,
   "id": "99ccc4b7",
   "metadata": {},
   "outputs": [
    {
     "data": {
      "text/plain": [
       "array([[14.],\n",
       "       [21.],\n",
       "       [26.],\n",
       "       [33.],\n",
       "       [40.]])"
      ]
     },
     "execution_count": 6,
     "metadata": {},
     "output_type": "execute_result"
    }
   ],
   "source": [
    "y_pred = np.dot(x,w)+b\n",
    "y_pred"
   ]
  },
  {
   "cell_type": "code",
   "execution_count": 7,
   "id": "b9da73be",
   "metadata": {},
   "outputs": [
    {
     "data": {
      "text/plain": [
       "(5, 1)"
      ]
     },
     "execution_count": 7,
     "metadata": {},
     "output_type": "execute_result"
    }
   ],
   "source": [
    "y = np.array([[15],\n",
    "                [22.5],\n",
    "                [27],\n",
    "                [35],\n",
    "                [45]])\n",
    "\n",
    "y.shape"
   ]
  },
  {
   "cell_type": "code",
   "execution_count": 8,
   "id": "41bd3d3c",
   "metadata": {},
   "outputs": [
    {
     "data": {
      "text/plain": [
       "6.65"
      ]
     },
     "execution_count": 8,
     "metadata": {},
     "output_type": "execute_result"
    }
   ],
   "source": [
    "loss = np.mean((y-y_pred)**2)\n",
    "loss"
   ]
  },
  {
   "cell_type": "code",
   "execution_count": 10,
   "id": "7f65896b",
   "metadata": {},
   "outputs": [
    {
     "data": {
      "text/plain": [
       "array([[-10.1],\n",
       "       [-12.8]])"
      ]
     },
     "execution_count": 10,
     "metadata": {},
     "output_type": "execute_result"
    }
   ],
   "source": [
    "dw = 2/5 * np.dot(np.transpose(x),(y_pred-y))\n",
    "dw"
   ]
  },
  {
   "cell_type": "code",
   "execution_count": 12,
   "id": "01b26a98",
   "metadata": {},
   "outputs": [
    {
     "data": {
      "text/plain": [
       "array([[10.101],\n",
       "       [ 2.128]])"
      ]
     },
     "execution_count": 12,
     "metadata": {},
     "output_type": "execute_result"
    }
   ],
   "source": [
    "alpha = 0.01\n",
    "w =w - alpha*dw\n",
    "w"
   ]
  },
  {
   "cell_type": "code",
   "execution_count": 13,
   "id": "06277600",
   "metadata": {},
   "outputs": [
    {
     "data": {
      "text/plain": [
       "-4.2"
      ]
     },
     "execution_count": 13,
     "metadata": {},
     "output_type": "execute_result"
    }
   ],
   "source": [
    "db = 2/5* np.sum(y_pred-y)\n",
    "db"
   ]
  },
  {
   "cell_type": "code",
   "execution_count": 14,
   "id": "19617196",
   "metadata": {},
   "outputs": [
    {
     "data": {
      "text/plain": [
       "array([[2.042]])"
      ]
     },
     "execution_count": 14,
     "metadata": {},
     "output_type": "execute_result"
    }
   ],
   "source": [
    "b = b - alpha*db\n",
    "b"
   ]
  }
 ],
 "metadata": {
  "kernelspec": {
   "display_name": "base",
   "language": "python",
   "name": "python3"
  },
  "language_info": {
   "codemirror_mode": {
    "name": "ipython",
    "version": 3
   },
   "file_extension": ".py",
   "mimetype": "text/x-python",
   "name": "python",
   "nbconvert_exporter": "python",
   "pygments_lexer": "ipython3",
   "version": "3.12.4"
  }
 },
 "nbformat": 4,
 "nbformat_minor": 5
}
