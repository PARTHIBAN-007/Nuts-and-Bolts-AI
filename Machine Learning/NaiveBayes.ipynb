{
 "cells": [
  {
   "cell_type": "code",
   "execution_count": 33,
   "id": "fba63cf9",
   "metadata": {},
   "outputs": [],
   "source": [
    "features = [\"deal\", \"promo\", \"money\", \"report\", \"meeting\"]\n",
    "\n",
    "dataset = [\n",
    "    {\"features\": [1, 1, 1, 0, 0], \"class\": \"Spam\"},\n",
    "    {\"features\": [1, 1, 0, 0, 0], \"class\": \"Spam\"},\n",
    "    {\"features\": [1, 0, 0, 1, 0], \"class\": \"Spam\"},\n",
    "    {\"features\": [1, 0, 1, 0, 0], \"class\": \"Spam\"},\n",
    "    {\"features\": [0, 1, 0, 0, 0], \"class\": \"Spam\"},\n",
    "    {\"features\": [0, 0, 0, 1, 1], \"class\": \"Ham\"},\n",
    "    {\"features\": [0, 0, 0, 0, 1], \"class\": \"Ham\"},\n",
    "    {\"features\": [0, 0, 0, 1, 0], \"class\": \"Ham\"},\n",
    "    {\"features\": [0, 0, 1, 1, 0], \"class\": \"Ham\"},\n",
    "    {\"features\": [1, 0, 0, 0, 1], \"class\": \"Ham\"},\n",
    "]\n",
    "\n",
    "input_features = [1, 0, 0, 1, 0]"
   ]
  },
  {
   "cell_type": "code",
   "execution_count": 34,
   "id": "2d053539",
   "metadata": {},
   "outputs": [
    {
     "data": {
      "text/plain": [
       "(5, 5)"
      ]
     },
     "execution_count": 34,
     "metadata": {},
     "output_type": "execute_result"
    }
   ],
   "source": [
    "laplace = 1\n",
    "\n",
    "total = len(dataset)\n",
    "spam = sum(1 for d in dataset if d[\"class\"] == \"Spam\")\n",
    "ham = total - spam\n",
    "spam,ham"
   ]
  },
  {
   "cell_type": "code",
   "execution_count": 35,
   "id": "7400734e",
   "metadata": {},
   "outputs": [
    {
     "name": "stdout",
     "output_type": "stream",
     "text": [
      "Spam : {'deal': 0.5, '!deal': 0.2, 'promo': 0.4, '!promo': 0.3, 'money': 0.3, '!money': 0.4, 'report': 0.2, '!report': 0.5, 'meeting': 0.1, '!meeting': 0.6}\n",
      "Hpam : {'deal': 0.2, '!deal': 0.5, 'promo': 0.1, '!promo': 0.6, 'money': 0.2, '!money': 0.5, 'report': 0.4, '!report': 0.3, 'meeting': 0.4, '!meeting': 0.3}\n"
     ]
    }
   ],
   "source": [
    "def compute_likelihoods():\n",
    "    counts = {\"Spam\": 5, \"Ham\": 5}  \n",
    "    likelihoods = {\"Spam\": {}, \"Ham\": {}}\n",
    "    num_features = len(features)\n",
    "    denominator_spam = counts[\"Spam\"] + laplace * num_features\n",
    "    denominator_ham = counts[\"Ham\"] + laplace * num_features\n",
    "\n",
    "    for idx, feature in enumerate(features):\n",
    "        spam_count = sum(1 for d in dataset if d[\"class\"] == \"Spam\" and d[\"features\"][idx] == 1)\n",
    "        ham_count = sum(1 for d in dataset if d[\"class\"] == \"Ham\" and d[\"features\"][idx] == 1)\n",
    "\n",
    "        likelihoods[\"Spam\"][feature] = (spam_count + laplace) / denominator_spam\n",
    "        likelihoods[\"Ham\"][feature] = (ham_count + laplace) / denominator_ham\n",
    "\n",
    "        likelihoods[\"Spam\"][f\"!{feature}\"] = (counts[\"Spam\"] - spam_count + laplace) / denominator_spam\n",
    "        likelihoods[\"Ham\"][f\"!{feature}\"] = (counts[\"Ham\"] - ham_count + laplace) / denominator_ham\n",
    "\n",
    "    return likelihoods\n",
    "\n",
    "\n",
    "likelihood = compute_likelihoods()\n",
    "print(f\"Spam : {likelihood[\"Spam\"]}\")\n",
    "print(f\"Hpam : {likelihood[\"Ham\"]}\")"
   ]
  },
  {
   "cell_type": "code",
   "execution_count": 36,
   "id": "331cdbd8",
   "metadata": {},
   "outputs": [],
   "source": [
    "def compute_posterior(prior, likelihood, input_features, target_class):\n",
    "    prob = prior\n",
    "    for i, val in enumerate(input_features):\n",
    "        feature = features[i]\n",
    "        if val == 1:\n",
    "            prob *= likelihood[target_class][feature]\n",
    "        else:\n",
    "            prob *= likelihood[target_class][f\"!{feature}\"]\n",
    "    return prob"
   ]
  },
  {
   "cell_type": "code",
   "execution_count": 37,
   "id": "c63e4943",
   "metadata": {},
   "outputs": [
    {
     "name": "stdout",
     "output_type": "stream",
     "text": [
      "Spam probability: 0.0360\n",
      "Ham probability: 0.0360\n"
     ]
    }
   ],
   "source": [
    "spam_score = compute_posterior(spam, likelihood, input_features, \"Spam\")\n",
    "ham_score = compute_posterior(ham, likelihood, input_features, \"Ham\")\n",
    "\n",
    "print(f\"Spam probability: {spam_score:.4f}\")\n",
    "print(f\"Ham probability: {ham_score:.4f}\")"
   ]
  }
 ],
 "metadata": {
  "kernelspec": {
   "display_name": "base",
   "language": "python",
   "name": "python3"
  },
  "language_info": {
   "codemirror_mode": {
    "name": "ipython",
    "version": 3
   },
   "file_extension": ".py",
   "mimetype": "text/x-python",
   "name": "python",
   "nbconvert_exporter": "python",
   "pygments_lexer": "ipython3",
   "version": "3.12.4"
  }
 },
 "nbformat": 4,
 "nbformat_minor": 5
}
