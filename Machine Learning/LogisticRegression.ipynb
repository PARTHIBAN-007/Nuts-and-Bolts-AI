{
 "cells": [
  {
   "cell_type": "code",
   "execution_count": 1,
   "id": "646d109a",
   "metadata": {},
   "outputs": [
    {
     "data": {
      "text/plain": [
       "((6, 2), (2, 1), (1, 1))"
      ]
     },
     "execution_count": 1,
     "metadata": {},
     "output_type": "execute_result"
    }
   ],
   "source": [
    "import numpy as np\n",
    "\n",
    "features= np.array([[78,85],\n",
    "                   [82,76],\n",
    "                   [90,92],\n",
    "                   [65,70],\n",
    "                   [88,95],\n",
    "                   [72,68]])\n",
    "\n",
    "weights = np.array([[0.01],[0.02]])\n",
    "\n",
    "bias = np.array([[-1.5]])\n",
    "features.shape , weights.shape, bias.shape"
   ]
  },
  {
   "cell_type": "code",
   "execution_count": 2,
   "id": "889930fc",
   "metadata": {},
   "outputs": [
    {
     "data": {
      "text/plain": [
       "array([[0.98],\n",
       "       [0.84],\n",
       "       [1.24],\n",
       "       [0.55],\n",
       "       [1.28],\n",
       "       [0.58]])"
      ]
     },
     "execution_count": 2,
     "metadata": {},
     "output_type": "execute_result"
    }
   ],
   "source": [
    "z = np.dot(features,weights)+bias\n",
    "z"
   ]
  },
  {
   "cell_type": "code",
   "execution_count": 3,
   "id": "98138caa",
   "metadata": {},
   "outputs": [
    {
     "data": {
      "text/plain": [
       "[array([0.72710822]),\n",
       " array([0.69846522]),\n",
       " array([0.77556401]),\n",
       " array([0.63413559]),\n",
       " array([0.78244978]),\n",
       " array([0.64106741])]"
      ]
     },
     "execution_count": 3,
     "metadata": {},
     "output_type": "execute_result"
    }
   ],
   "source": [
    "def sigmoid(x):\n",
    "    return 1/(1+np.exp(-x))\n",
    "\n",
    "y_pred = [sigmoid(x) for x in z]\n",
    "y_pred"
   ]
  },
  {
   "cell_type": "code",
   "execution_count": 4,
   "id": "2be756d1",
   "metadata": {},
   "outputs": [
    {
     "data": {
      "text/plain": [
       "(6, 1)"
      ]
     },
     "execution_count": 4,
     "metadata": {},
     "output_type": "execute_result"
    }
   ],
   "source": [
    "target = np.array([[0],\n",
    "                   [0],\n",
    "                   [1],\n",
    "                   [0],\n",
    "                   [1],\n",
    "                   [0]])\n",
    "target.shape"
   ]
  },
  {
   "cell_type": "code",
   "execution_count": 5,
   "id": "c4904b16",
   "metadata": {},
   "outputs": [
    {
     "name": "stdout",
     "output_type": "stream",
     "text": [
      "0.8378588843242686\n"
     ]
    }
   ],
   "source": [
    "def binary_cross_entropy(y_true, y_pred):\n",
    "    y_pred = np.array(y_pred)\n",
    "    y_true = np.array(y_true)\n",
    "    return -np.mean(y_true * np.log(y_pred) + (1 - y_true) * np.log(1 - y_pred))\n",
    "\n",
    "\n",
    "print(binary_cross_entropy(target,y_pred))\n"
   ]
  },
  {
   "cell_type": "code",
   "execution_count": 6,
   "id": "c34437e8",
   "metadata": {},
   "outputs": [
    {
     "name": "stdout",
     "output_type": "stream",
     "text": [
      "[[78 85]\n",
      " [82 76]\n",
      " [90 92]\n",
      " [65 70]\n",
      " [88 95]\n",
      " [72 68]]\n",
      "[[78 82 90 65 88 72]\n",
      " [85 76 92 70 95 68]]\n",
      "[array([0.72710822]), array([0.69846522]), array([0.77556401]), array([0.63413559]), array([0.78244978]), array([0.64106741])]\n",
      "[[0]\n",
      " [0]\n",
      " [1]\n",
      " [0]\n",
      " [1]\n",
      " [0]]\n",
      "[[ 0.72710822]\n",
      " [ 0.69846522]\n",
      " [-0.22443599]\n",
      " [ 0.63413559]\n",
      " [-0.21755022]\n",
      " [ 0.64106741]]\n"
     ]
    }
   ],
   "source": [
    "print(features)\n",
    "print(np.transpose(features))\n",
    "print(y_pred)\n",
    "print(target)\n",
    "print(y_pred-target)"
   ]
  },
  {
   "cell_type": "code",
   "execution_count": 7,
   "id": "5541517c",
   "metadata": {},
   "outputs": [
    {
     "data": {
      "text/plain": [
       "array([[27.00343281],\n",
       "       [26.92570798]])"
      ]
     },
     "execution_count": 7,
     "metadata": {},
     "output_type": "execute_result"
    }
   ],
   "source": [
    "m = 6\n",
    "x_transpose = np.transpose(features)\n",
    "error = y_pred-target\n",
    "dw = 1/m*x_transpose\n",
    "dw = np.dot(dw,error)\n",
    "dw"
   ]
  },
  {
   "cell_type": "code",
   "execution_count": 8,
   "id": "4b910af9",
   "metadata": {},
   "outputs": [
    {
     "data": {
      "text/plain": [
       "array([[27.0036    ],\n",
       "       [26.92570798]])"
      ]
     },
     "execution_count": 8,
     "metadata": {},
     "output_type": "execute_result"
    }
   ],
   "source": [
    "dw[0][0] = 27.0036 #Js code have fixed and round off to 4.so it results in mismatch and error between js(round 4) and python.\n",
    "dw"
   ]
  },
  {
   "cell_type": "code",
   "execution_count": 9,
   "id": "1fffcaf0",
   "metadata": {},
   "outputs": [
    {
     "data": {
      "text/plain": [
       "array([[-0.0170036 ],\n",
       "       [-0.00692571]])"
      ]
     },
     "execution_count": 9,
     "metadata": {},
     "output_type": "execute_result"
    }
   ],
   "source": [
    "alpha = 0.001\n",
    "\n",
    "weights = weights - alpha*dw\n",
    "weights"
   ]
  },
  {
   "cell_type": "code",
   "execution_count": 10,
   "id": "5871fa5e",
   "metadata": {},
   "outputs": [
    {
     "data": {
      "text/plain": [
       "0.3764650367302454"
      ]
     },
     "execution_count": 10,
     "metadata": {},
     "output_type": "execute_result"
    }
   ],
   "source": [
    "db = 1/m * np.sum(y_pred-target)\n",
    "db"
   ]
  },
  {
   "cell_type": "code",
   "execution_count": 11,
   "id": "bed93086",
   "metadata": {},
   "outputs": [
    {
     "data": {
      "text/plain": [
       "array([[-1.50037647]])"
      ]
     },
     "execution_count": 11,
     "metadata": {},
     "output_type": "execute_result"
    }
   ],
   "source": [
    "bias = bias-(alpha*db)\n",
    "bias"
   ]
  },
  {
   "cell_type": "code",
   "execution_count": null,
   "id": "0030eebd",
   "metadata": {},
   "outputs": [],
   "source": []
  }
 ],
 "metadata": {
  "kernelspec": {
   "display_name": "base",
   "language": "python",
   "name": "python3"
  },
  "language_info": {
   "codemirror_mode": {
    "name": "ipython",
    "version": 3
   },
   "file_extension": ".py",
   "mimetype": "text/x-python",
   "name": "python",
   "nbconvert_exporter": "python",
   "pygments_lexer": "ipython3",
   "version": "3.12.4"
  }
 },
 "nbformat": 4,
 "nbformat_minor": 5
}
