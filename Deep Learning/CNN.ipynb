{
 "cells": [
  {
   "cell_type": "code",
   "execution_count": 1,
   "id": "c29162be",
   "metadata": {},
   "outputs": [
    {
     "data": {
      "text/plain": [
       "(5, 5)"
      ]
     },
     "execution_count": 1,
     "metadata": {},
     "output_type": "execute_result"
    }
   ],
   "source": [
    "import numpy as np\n",
    "\n",
    "image = np.array([[10,10,10,0,0],\n",
    "                  [10,10,10,0,0],\n",
    "                  [10,10,10,0,0],\n",
    "                  [0,0,0,0,0],\n",
    "                  [0,0,0,0,0]])\n",
    "\n",
    "image.shape"
   ]
  },
  {
   "cell_type": "code",
   "execution_count": 2,
   "id": "06687a56",
   "metadata": {},
   "outputs": [
    {
     "data": {
      "text/plain": [
       "(3, 3)"
      ]
     },
     "execution_count": 2,
     "metadata": {},
     "output_type": "execute_result"
    }
   ],
   "source": [
    "kernel = np.array([[1,0,-1],\n",
    "                   [1,0,-1],\n",
    "                   [1,0,-1]])\n",
    "kernel.shape"
   ]
  },
  {
   "cell_type": "code",
   "execution_count": 4,
   "id": "d4a6a1da",
   "metadata": {},
   "outputs": [],
   "source": [
    "first = np.array([\n",
    "    [10,10,10],\n",
    "    [10,10,10],\n",
    "    [10,10,10],\n",
    "])\n",
    "\n",
    "res = np.dot(first,kernel)"
   ]
  },
  {
   "cell_type": "code",
   "execution_count": 5,
   "id": "cd6759fa",
   "metadata": {},
   "outputs": [
    {
     "data": {
      "text/plain": [
       "array([[ 30,   0, -30],\n",
       "       [ 30,   0, -30],\n",
       "       [ 30,   0, -30]])"
      ]
     },
     "execution_count": 5,
     "metadata": {},
     "output_type": "execute_result"
    }
   ],
   "source": [
    "res"
   ]
  },
  {
   "cell_type": "code",
   "execution_count": null,
   "id": "5a7b1739",
   "metadata": {},
   "outputs": [],
   "source": [
    "image_height, image_width = image.shape\n",
    "kernel_height, kernel_width = kernel.shape\n",
    "\n",
    "# Calculate output dimensions\n",
    "output_height = image_height - kernel_height + 1\n",
    "output_width = image_width - kernel_width + 1\n",
    "\n",
    "output = np.zeros((output_height, output_width))\n",
    "\n",
    "for i in range(output_height):\n",
    "    for j in range(output_width):\n",
    "        region = image[i:i+kernel_height, j:j+kernel_width]\n",
    "        output[i, j] = np.sum(region * kernel)\n"
   ]
  },
  {
   "cell_type": "code",
   "execution_count": 7,
   "id": "d5c624e5",
   "metadata": {},
   "outputs": [
    {
     "data": {
      "text/plain": [
       "array([[ 0., 30., 30.],\n",
       "       [ 0., 20., 20.],\n",
       "       [ 0., 10., 10.]])"
      ]
     },
     "execution_count": 7,
     "metadata": {},
     "output_type": "execute_result"
    }
   ],
   "source": [
    "output"
   ]
  },
  {
   "cell_type": "code",
   "execution_count": null,
   "id": "65a2fab0",
   "metadata": {},
   "outputs": [
    {
     "ename": "TypeError",
     "evalue": "'>' not supported between instances of 'method' and 'int'",
     "output_type": "error",
     "traceback": [
      "\u001b[1;31m---------------------------------------------------------------------------\u001b[0m",
      "\u001b[1;31mTypeError\u001b[0m                                 Traceback (most recent call last)",
      "Cell \u001b[1;32mIn[8], line 1\u001b[0m\n\u001b[1;32m----> 1\u001b[0m output \u001b[38;5;241m=\u001b[39m \u001b[38;5;28mmax\u001b[39m(\u001b[38;5;241m0\u001b[39m,\u001b[38;5;28minput\u001b[39m)\n",
      "\u001b[1;31mTypeError\u001b[0m: '>' not supported between instances of 'method' and 'int'"
     ]
    }
   ],
   "source": [
    "# output = max(0,input)"
   ]
  },
  {
   "cell_type": "code",
   "execution_count": 18,
   "id": "64048c99",
   "metadata": {},
   "outputs": [
    {
     "name": "stdout",
     "output_type": "stream",
     "text": [
      "3 3\n"
     ]
    },
    {
     "data": {
      "text/plain": [
       "array([[30., 30.],\n",
       "       [20., 20.]])"
      ]
     },
     "execution_count": 18,
     "metadata": {},
     "output_type": "execute_result"
    }
   ],
   "source": [
    "input_height = output.shape[0]\n",
    "input_width = output.shape[1]\n",
    "print(input_height,input_width)\n",
    "max_pool = np.zeros((2,2))\n",
    "for i in range(input_height-1):\n",
    "    for j in range(input_width-1):\n",
    "        region = output[i:i+2,j:j+2]\n",
    "        max_pool[i,j] = np.max(region)\n",
    "max_pool\n",
    "        "
   ]
  },
  {
   "cell_type": "code",
   "execution_count": 29,
   "id": "84a0b5ac",
   "metadata": {},
   "outputs": [
    {
     "data": {
      "text/plain": [
       "(1, 4)"
      ]
     },
     "execution_count": 29,
     "metadata": {},
     "output_type": "execute_result"
    }
   ],
   "source": [
    "flatten_image = np.matrix.flatten(max_pool)\n",
    "flatten_image = np.array([flatten_image])\n",
    "flatten_image.shape"
   ]
  },
  {
   "cell_type": "code",
   "execution_count": 36,
   "id": "448f8266",
   "metadata": {},
   "outputs": [
    {
     "data": {
      "text/plain": [
       "(4, 1)"
      ]
     },
     "execution_count": 36,
     "metadata": {},
     "output_type": "execute_result"
    }
   ],
   "source": [
    "weights = np.array([[0.5],[-0.5],[0.2],[-0.2]])\n",
    "bias = 0.1\n",
    "weights.shape"
   ]
  },
  {
   "cell_type": "code",
   "execution_count": 37,
   "id": "8510ae70",
   "metadata": {},
   "outputs": [
    {
     "data": {
      "text/plain": [
       "array([[0.1]])"
      ]
     },
     "execution_count": 37,
     "metadata": {},
     "output_type": "execute_result"
    }
   ],
   "source": [
    "output = np.dot(flatten_image,weights) + bias\n",
    "output"
   ]
  },
  {
   "cell_type": "code",
   "execution_count": null,
   "id": "315aae29",
   "metadata": {},
   "outputs": [],
   "source": []
  }
 ],
 "metadata": {
  "kernelspec": {
   "display_name": "base",
   "language": "python",
   "name": "python3"
  },
  "language_info": {
   "codemirror_mode": {
    "name": "ipython",
    "version": 3
   },
   "file_extension": ".py",
   "mimetype": "text/x-python",
   "name": "python",
   "nbconvert_exporter": "python",
   "pygments_lexer": "ipython3",
   "version": "3.12.4"
  }
 },
 "nbformat": 4,
 "nbformat_minor": 5
}
