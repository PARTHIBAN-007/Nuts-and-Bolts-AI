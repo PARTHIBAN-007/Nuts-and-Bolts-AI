{
 "cells": [
  {
   "cell_type": "markdown",
   "id": "f8afc0cf",
   "metadata": {},
   "source": [
    "Recurrent Neural Network(RNN)"
   ]
  },
  {
   "cell_type": "code",
   "execution_count": 63,
   "id": "610338b9",
   "metadata": {},
   "outputs": [
    {
     "data": {
      "text/plain": [
       "(torch.Size([1, 2]),\n",
       " torch.Size([2, 4]),\n",
       " torch.Size([4, 4]),\n",
       " torch.Size([1, 4]),\n",
       " torch.Size([1, 4]))"
      ]
     },
     "execution_count": 63,
     "metadata": {},
     "output_type": "execute_result"
    }
   ],
   "source": [
    "import torch\n",
    "import torch.nn.functional as F\n",
    "\n",
    "x1 = torch.tensor([\n",
    "    [1,0]\n",
    "],dtype=float, requires_grad=True)\n",
    "w_xh = torch.tensor([\n",
    "    [0.5,-0.2,0.8,0.1],\n",
    "    [0.3,0.6,-0.4,0.9],\n",
    "],dtype=float, requires_grad=True)\n",
    "w_hh = torch.tensor([\n",
    "    [0.2,0.5,-0.3,0.4],\n",
    "    [-0.1,0.7,0.6,-0.2],\n",
    "    [0.8,-0.4,0.1,0.9],\n",
    "    [0.3,-0.1,0.5,0.7],\n",
    "],dtype=float,requires_grad=True)\n",
    "\n",
    "b_h = torch.tensor([\n",
    "    [0.1,0.1,0.1,0.1]\n",
    "],dtype=float, requires_grad=True)\n",
    "h0 = torch.tensor([\n",
    "    [0,0,0,0]\n",
    "],dtype=float, requires_grad=True)\n",
    "\n",
    "x1.shape , w_xh.shape ,w_hh.shape, b_h.shape , h0.shape , \n"
   ]
  },
  {
   "cell_type": "code",
   "execution_count": 64,
   "id": "a8a39a1c",
   "metadata": {},
   "outputs": [
    {
     "data": {
      "text/plain": [
       "tensor([[ 0.5370, -0.0997,  0.7163,  0.1974]], dtype=torch.float64,\n",
       "       grad_fn=<TanhBackward0>)"
      ]
     },
     "execution_count": 64,
     "metadata": {},
     "output_type": "execute_result"
    }
   ],
   "source": [
    "h1 = F.tanh(x1@w_xh + h0@w_hh + b_h)\n",
    "h1"
   ]
  },
  {
   "cell_type": "code",
   "execution_count": 65,
   "id": "6d1e9069",
   "metadata": {},
   "outputs": [
    {
     "data": {
      "text/plain": [
       "(torch.Size([4, 2]), torch.Size([1, 2]))"
      ]
     },
     "execution_count": 65,
     "metadata": {},
     "output_type": "execute_result"
    }
   ],
   "source": [
    "w_hy = torch.tensor([[0.6,-0.3],\n",
    "                    [-0.2,0.8],\n",
    "                    [0.9,-0.1],\n",
    "                    [0.3,0.7]],dtype =float)\n",
    "b_y = torch.tensor([[0.1,0.1]],dtype=float)\n",
    "\n",
    "w_hy.shape,b_y.shape"
   ]
  },
  {
   "cell_type": "code",
   "execution_count": 66,
   "id": "03470849",
   "metadata": {},
   "outputs": [
    {
     "data": {
      "text/plain": [
       "tensor([[ 1.1460, -0.0743]], dtype=torch.float64, grad_fn=<AddBackward0>)"
      ]
     },
     "execution_count": 66,
     "metadata": {},
     "output_type": "execute_result"
    }
   ],
   "source": [
    "y1 = h1@w_hy+b_y\n",
    "y1"
   ]
  },
  {
   "cell_type": "code",
   "execution_count": 67,
   "id": "217b79c7",
   "metadata": {},
   "outputs": [
    {
     "name": "stderr",
     "output_type": "stream",
     "text": [
      "C:\\Users\\Parthiban\\AppData\\Local\\Temp\\ipykernel_20544\\2366193953.py:1: UserWarning: Implicit dimension choice for softmax has been deprecated. Change the call to include dim=X as an argument.\n",
      "  y1_pred = F.softmax(y1)\n"
     ]
    },
    {
     "data": {
      "text/plain": [
       "tensor([[0.7721, 0.2279]], dtype=torch.float64, grad_fn=<SoftmaxBackward0>)"
      ]
     },
     "execution_count": 67,
     "metadata": {},
     "output_type": "execute_result"
    }
   ],
   "source": [
    "y1_pred = F.softmax(y1)\n",
    "y1_pred"
   ]
  },
  {
   "cell_type": "code",
   "execution_count": 68,
   "id": "f01c5bd2",
   "metadata": {},
   "outputs": [
    {
     "data": {
      "text/plain": [
       "(torch.Size([1, 2]),\n",
       " torch.Size([2, 4]),\n",
       " torch.Size([4, 4]),\n",
       " torch.Size([1, 4]))"
      ]
     },
     "execution_count": 68,
     "metadata": {},
     "output_type": "execute_result"
    }
   ],
   "source": [
    "\n",
    "x2 = torch.tensor([\n",
    "    [0,1]\n",
    "],dtype=float)\n",
    "#t2\n",
    "w_xh = torch.tensor([\n",
    "    [0.5,-0.2,0.8,0.1],\n",
    "    [0.3,0.6,-0.4,0.9],\n",
    "],dtype=float)\n",
    "\n",
    "w_hh = torch.tensor([\n",
    "    [0.2,0.5,-0.3,0.4],\n",
    "    [-0.1,0.7,0.6,-0.2],\n",
    "    [0.8,-0.4,0.1,0.9],\n",
    "    [0.3,-0.1,0.5,0.7],\n",
    "],dtype=float)\n",
    "\n",
    "b_h = torch.tensor([\n",
    "    [0.1,0.1,0.1,0.1]\n",
    "],dtype=float)\n",
    "\n",
    "x1.shape , w_xh.shape ,w_hh.shape, b_h.shape \n"
   ]
  },
  {
   "cell_type": "code",
   "execution_count": 69,
   "id": "a13db593",
   "metadata": {},
   "outputs": [
    {
     "data": {
      "text/plain": [
       "tensor([[ 0.8176,  0.5317, -0.3369,  0.9652]], dtype=torch.float64,\n",
       "       grad_fn=<TanhBackward0>)"
      ]
     },
     "execution_count": 69,
     "metadata": {},
     "output_type": "execute_result"
    }
   ],
   "source": [
    "h2  = F.tanh(x2@w_xh+h1@w_hh+b_h)\n",
    "h2"
   ]
  },
  {
   "cell_type": "code",
   "execution_count": 70,
   "id": "b15f023b",
   "metadata": {},
   "outputs": [
    {
     "data": {
      "text/plain": [
       "(torch.Size([4, 2]), torch.Size([1, 2]))"
      ]
     },
     "execution_count": 70,
     "metadata": {},
     "output_type": "execute_result"
    }
   ],
   "source": [
    "#t2\n",
    "w_hy = torch.tensor([[0.6,-0.3],\n",
    "                    [-0.2,0.8],\n",
    "                    [0.9,-0.1],\n",
    "                    [0.3,0.7]],dtype =float)\n",
    "b_y = torch.tensor([[0.1,0.1]],dtype=float)\n",
    "\n",
    "w_hy.shape,b_y.shape"
   ]
  },
  {
   "cell_type": "code",
   "execution_count": 71,
   "id": "0a4b6e78",
   "metadata": {},
   "outputs": [
    {
     "data": {
      "text/plain": [
       "tensor([[0.4706, 0.9894]], dtype=torch.float64, grad_fn=<AddBackward0>)"
      ]
     },
     "execution_count": 71,
     "metadata": {},
     "output_type": "execute_result"
    }
   ],
   "source": [
    "y2 = h2@w_hy+b_y\n",
    "y2"
   ]
  },
  {
   "cell_type": "code",
   "execution_count": 72,
   "id": "50d25b1e",
   "metadata": {},
   "outputs": [
    {
     "name": "stderr",
     "output_type": "stream",
     "text": [
      "C:\\Users\\Parthiban\\AppData\\Local\\Temp\\ipykernel_20544\\3722561250.py:1: UserWarning: Implicit dimension choice for softmax has been deprecated. Change the call to include dim=X as an argument.\n",
      "  y2_pred = F.softmax(y2)\n"
     ]
    },
    {
     "data": {
      "text/plain": [
       "tensor([[0.3731, 0.6269]], dtype=torch.float64, grad_fn=<SoftmaxBackward0>)"
      ]
     },
     "execution_count": 72,
     "metadata": {},
     "output_type": "execute_result"
    }
   ],
   "source": [
    "y2_pred = F.softmax(y2)\n",
    "y2_pred"
   ]
  },
  {
   "cell_type": "code",
   "execution_count": 73,
   "id": "cbdff56a",
   "metadata": {},
   "outputs": [
    {
     "data": {
      "text/plain": [
       "(torch.Size([1, 2]), torch.Size([1, 2]))"
      ]
     },
     "execution_count": 73,
     "metadata": {},
     "output_type": "execute_result"
    }
   ],
   "source": [
    "t1 = torch.tensor([\n",
    "    [0.0,1.0]\n",
    "],dtype=float)\n",
    "t2 = torch.tensor([\n",
    "    [1.0,0.0]\n",
    "],dtype=float)\n",
    "t1.shape,t2.shape"
   ]
  },
  {
   "cell_type": "code",
   "execution_count": 74,
   "id": "776ed9b0",
   "metadata": {},
   "outputs": [
    {
     "data": {
      "text/plain": [
       "(tensor([[0.0000, 1.4790]], dtype=torch.float64, grad_fn=<MulBackward0>),\n",
       " tensor([[0.9858, 0.0000]], dtype=torch.float64, grad_fn=<MulBackward0>),\n",
       " tensor(1.0019, dtype=torch.float64, grad_fn=<NllLossBackward0>),\n",
       " tensor(0.8280, dtype=torch.float64, grad_fn=<NllLossBackward0>))"
      ]
     },
     "execution_count": 74,
     "metadata": {},
     "output_type": "execute_result"
    }
   ],
   "source": [
    "ll1 = torch.nn.functional.cross_entropy(y1_pred, t1.argmax(dim=1))\n",
    "ll2 = torch.nn.functional.cross_entropy(y2_pred, t2.argmax(dim=1))\n",
    "l1 = - torch.log(y1_pred)*t1 \n",
    "l2 = - torch.log(y2_pred)*t2\n",
    "l1,l2,ll1,ll2"
   ]
  },
  {
   "cell_type": "code",
   "execution_count": 75,
   "id": "75e707ac",
   "metadata": {},
   "outputs": [
    {
     "data": {
      "text/plain": [
       "2.4648000000000003"
      ]
     },
     "execution_count": 75,
     "metadata": {},
     "output_type": "execute_result"
    }
   ],
   "source": [
    "1.4790+0.9858"
   ]
  },
  {
   "cell_type": "code",
   "execution_count": 76,
   "id": "2c16e41d",
   "metadata": {},
   "outputs": [
    {
     "data": {
      "text/plain": [
       "tensor([[ 0.7721, -0.7721]], dtype=torch.float64, grad_fn=<SubBackward0>)"
      ]
     },
     "execution_count": 76,
     "metadata": {},
     "output_type": "execute_result"
    }
   ],
   "source": [
    "dl_dy1_pred = y1_pred-t1\n",
    "dl_dy1_pred \n"
   ]
  },
  {
   "cell_type": "code",
   "execution_count": 77,
   "id": "75abfd47",
   "metadata": {},
   "outputs": [
    {
     "data": {
      "text/plain": [
       "tensor([[-0.6269,  0.6269]], dtype=torch.float64, grad_fn=<SubBackward0>)"
      ]
     },
     "execution_count": 77,
     "metadata": {},
     "output_type": "execute_result"
    }
   ],
   "source": [
    "dl_dy2_pred = y2_pred-t2\n",
    "dl_dy2_pred\n"
   ]
  },
  {
   "cell_type": "code",
   "execution_count": 78,
   "id": "25cdc554",
   "metadata": {},
   "outputs": [
    {
     "data": {
      "text/plain": [
       "(tensor([[ 0.7721, -0.7721]], dtype=torch.float64, grad_fn=<SubBackward0>),\n",
       " tensor([[-0.6269,  0.6269]], dtype=torch.float64, grad_fn=<SubBackward0>))"
      ]
     },
     "execution_count": 78,
     "metadata": {},
     "output_type": "execute_result"
    }
   ],
   "source": [
    "dl_dy1 = dl_dy1_pred\n",
    "dl_dy2 = dl_dy2_pred\n",
    "dl_dy1,dl_dy2"
   ]
  },
  {
   "cell_type": "code",
   "execution_count": 79,
   "id": "834f7f5a",
   "metadata": {},
   "outputs": [
    {
     "data": {
      "text/plain": [
       "tensor([[-0.5642,  0.6269, -0.6269,  0.2507]], dtype=torch.float64,\n",
       "       grad_fn=<MmBackward0>)"
      ]
     },
     "execution_count": 79,
     "metadata": {},
     "output_type": "execute_result"
    }
   ],
   "source": [
    "dl_dh2 = dl_dy2@w_hy.T\n",
    "dl_dh2"
   ]
  },
  {
   "cell_type": "code",
   "execution_count": 80,
   "id": "e2ff2c64",
   "metadata": {},
   "outputs": [
    {
     "data": {
      "text/plain": [
       "tensor([[ 0.0663,  0.1657, -0.0994,  0.1326],\n",
       "        [-0.0717,  0.5021,  0.4304, -0.1435],\n",
       "        [ 0.7092, -0.3546,  0.0886,  0.7978],\n",
       "        [ 0.0205, -0.0068,  0.0341,  0.0478]], dtype=torch.float64,\n",
       "       grad_fn=<MmBackward0>)"
      ]
     },
     "execution_count": 80,
     "metadata": {},
     "output_type": "execute_result"
    }
   ],
   "source": [
    "import numpy as np\n",
    "\n",
    "dh2_dz2 = 1 - h2 ** 2  \n",
    "jacobian = torch.diag(dh2_dz2[0]) @ w_hh  \n",
    "jacobian"
   ]
  },
  {
   "cell_type": "code",
   "execution_count": 81,
   "id": "4b35b742",
   "metadata": {},
   "outputs": [
    {
     "data": {
      "text/plain": [
       "tensor([[ 0.1731, -0.3303,  1.0510, -0.9618]], dtype=torch.float64,\n",
       "       grad_fn=<AddBackward0>)"
      ]
     },
     "execution_count": 81,
     "metadata": {},
     "output_type": "execute_result"
    }
   ],
   "source": [
    "dl_dh1 = ( dl_dy1@w_hy.T) + (dl_dh2@jacobian)\n",
    "dl_dh1 "
   ]
  },
  {
   "cell_type": "code",
   "execution_count": 82,
   "id": "0e7e0e14",
   "metadata": {},
   "outputs": [],
   "source": [
    "# Derivative of tanh at h2\n",
    "dh2_dpreact = 1 - h2 ** 2\n",
    "\n",
    "# Backprop through h2\n",
    "dl_dh2_through_h1 = (dl_dh2 * dh2_dpreact) @ w_hh.T\n",
    "\n",
    "# Total dl_dh1\n",
    "dl_dh1 = (dl_dy1 @ w_hy.T) + dl_dh2_through_h1\n"
   ]
  },
  {
   "cell_type": "code",
   "execution_count": 83,
   "id": "750a4116",
   "metadata": {},
   "outputs": [
    {
     "data": {
      "text/plain": [
       "tensor([[ 1.0559, -0.7755,  0.4025, -0.6758]], dtype=torch.float64,\n",
       "       grad_fn=<AddBackward0>)"
      ]
     },
     "execution_count": 83,
     "metadata": {},
     "output_type": "execute_result"
    }
   ],
   "source": [
    "dl_dh1"
   ]
  },
  {
   "cell_type": "code",
   "execution_count": 84,
   "id": "5e2e43e4",
   "metadata": {},
   "outputs": [
    {
     "data": {
      "text/plain": [
       "tensor([[ 0.1453, -0.1453]], dtype=torch.float64, grad_fn=<AddBackward0>)"
      ]
     },
     "execution_count": 84,
     "metadata": {},
     "output_type": "execute_result"
    }
   ],
   "source": [
    "dl_db_y = dl_dy1+dl_dy2\n",
    "dl_db_y"
   ]
  },
  {
   "cell_type": "code",
   "execution_count": null,
   "id": "aa1ed1be",
   "metadata": {},
   "outputs": [
    {
     "data": {
      "text/plain": [
       "tensor([[-0.0979,  0.0979],\n",
       "        [-0.4103,  0.4103],\n",
       "        [ 0.7643, -0.7643],\n",
       "        [-0.4527,  0.4527]], dtype=torch.float64, grad_fn=<AddBackward0>)"
      ]
     },
     "execution_count": 85,
     "metadata": {},
     "output_type": "execute_result"
    }
   ],
   "source": [
    "dl_dw_hy = h1.T@dl_dy1+ h2.T@dl_dy2\n",
    "dl_dw_hy"
   ]
  },
  {
   "cell_type": "code",
   "execution_count": 88,
   "id": "9fa945b9",
   "metadata": {},
   "outputs": [
    {
     "data": {
      "text/plain": [
       "tensor([[ 0.7675, -0.7855, -0.1106, -0.7148],\n",
       "        [-1.2327,  0.3442, -0.7404, -0.6810]], dtype=torch.float64,\n",
       "       grad_fn=<AddBackward0>)"
      ]
     },
     "execution_count": 88,
     "metadata": {},
     "output_type": "execute_result"
    }
   ],
   "source": [
    "dl_dw_xh = x1.T @(dl_dh1*1 - h1**2) + x2.T@(dl_dh2*1 - h2**2)\n",
    "dl_dw_xh"
   ]
  },
  {
   "cell_type": "code",
   "execution_count": 89,
   "id": "5c3654d7",
   "metadata": {},
   "outputs": [],
   "source": [
    "dl_dw_xh = x1.T @ (dl_dh1 * (1 - h1 ** 2)) + x2.T @ (dl_dh2 * (1 - h2 ** 2))\n"
   ]
  },
  {
   "cell_type": "code",
   "execution_count": 90,
   "id": "15b02ff5",
   "metadata": {},
   "outputs": [
    {
     "data": {
      "text/plain": [
       "tensor([[ 0.7514, -0.7678,  0.1960, -0.6495],\n",
       "        [-0.1870,  0.4497, -0.5557,  0.0171]], dtype=torch.float64,\n",
       "       grad_fn=<AddBackward0>)"
      ]
     },
     "execution_count": 90,
     "metadata": {},
     "output_type": "execute_result"
    }
   ],
   "source": [
    "dl_dw_xh"
   ]
  },
  {
   "cell_type": "code",
   "execution_count": 91,
   "id": "5054afc2",
   "metadata": {},
   "outputs": [
    {
     "data": {
      "text/plain": [
       "tensor([[-0.1004,  0.2415, -0.2984,  0.0092],\n",
       "        [ 0.0186, -0.0448,  0.0554, -0.0017],\n",
       "        [-0.1340,  0.3221, -0.3981,  0.0123],\n",
       "        [-0.0369,  0.0888, -0.1097,  0.0034]], dtype=torch.float64,\n",
       "       grad_fn=<AddBackward0>)"
      ]
     },
     "execution_count": 91,
     "metadata": {},
     "output_type": "execute_result"
    }
   ],
   "source": [
    "dl_dw_hh =  h0.T @ (dl_dh1 * (1 - h1 ** 2)) + h1.T @ (dl_dh2 * (1 - h2 ** 2))\n",
    "dl_dw_hh"
   ]
  },
  {
   "cell_type": "code",
   "execution_count": 92,
   "id": "29925118",
   "metadata": {},
   "outputs": [
    {
     "data": {
      "text/plain": [
       "tensor([[ 0.5643, -0.3182, -0.3597, -0.6323]], dtype=torch.float64,\n",
       "       grad_fn=<AddBackward0>)"
      ]
     },
     "execution_count": 92,
     "metadata": {},
     "output_type": "execute_result"
    }
   ],
   "source": [
    "dl_db_h = (dl_dh1 * (1 - h1 ** 2)) + (dl_dh2 * (1 - h2 ** 2))\n",
    "dl_db_h"
   ]
  },
  {
   "cell_type": "code",
   "execution_count": null,
   "id": "f5c21f8a",
   "metadata": {},
   "outputs": [],
   "source": []
  }
 ],
 "metadata": {
  "kernelspec": {
   "display_name": "base",
   "language": "python",
   "name": "python3"
  },
  "language_info": {
   "codemirror_mode": {
    "name": "ipython",
    "version": 3
   },
   "file_extension": ".py",
   "mimetype": "text/x-python",
   "name": "python",
   "nbconvert_exporter": "python",
   "pygments_lexer": "ipython3",
   "version": "3.12.4"
  }
 },
 "nbformat": 4,
 "nbformat_minor": 5
}
