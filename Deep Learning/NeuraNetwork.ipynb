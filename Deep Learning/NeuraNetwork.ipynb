{
 "cells": [
  {
   "cell_type": "code",
   "execution_count": 35,
   "id": "33f38fdc",
   "metadata": {},
   "outputs": [],
   "source": [
    "import numpy as np"
   ]
  },
  {
   "cell_type": "code",
   "execution_count": 36,
   "id": "53643534",
   "metadata": {},
   "outputs": [
    {
     "data": {
      "text/plain": [
       "((1, 2), (2, 4), (1, 4))"
      ]
     },
     "execution_count": 36,
     "metadata": {},
     "output_type": "execute_result"
    }
   ],
   "source": [
    "a0 = np.array([[0.5,-0.2]])\n",
    "w1 = np.array([[0.1,0.4,-0.2,0.7],\n",
    "              [0.3,-0.5,0.6,-0.10]])\n",
    "b1 = np.array([[0.1,0.2,0.1,-0.3]])\n",
    "a0.shape,w1.shape,b1.shape"
   ]
  },
  {
   "cell_type": "code",
   "execution_count": 37,
   "id": "4c92b8a5",
   "metadata": {},
   "outputs": [
    {
     "data": {
      "text/plain": [
       "array([[ 0.09,  0.5 , -0.12,  0.07]])"
      ]
     },
     "execution_count": 37,
     "metadata": {},
     "output_type": "execute_result"
    }
   ],
   "source": [
    "z1  = np.dot(a0,w1)+b1\n",
    "z1"
   ]
  },
  {
   "cell_type": "code",
   "execution_count": 38,
   "id": "1584b163",
   "metadata": {},
   "outputs": [
    {
     "data": {
      "text/plain": [
       "(4, 4)"
      ]
     },
     "execution_count": 38,
     "metadata": {},
     "output_type": "execute_result"
    }
   ],
   "source": [
    "w2 = np.array([[0.4,-0.2,0.1,0.5],\n",
    "               [-0.1,0.3,-0.5,0.2],\n",
    "               [0.7,-0.3,0.2,-0.1],\n",
    "               [0.2,0.6,-0.4,0.3]])\n",
    "w2.shape"
   ]
  },
  {
   "cell_type": "code",
   "execution_count": 39,
   "id": "b60f984d",
   "metadata": {},
   "outputs": [],
   "source": [
    "import torch\n",
    "\n",
    "def relu(y):\n",
    "    y = torch.from_numpy(y)\n",
    "    return torch.nn.functional.relu(y)\n",
    "\n",
    "a1 = relu(z1)"
   ]
  },
  {
   "cell_type": "code",
   "execution_count": 40,
   "id": "82561fb1",
   "metadata": {},
   "outputs": [
    {
     "name": "stdout",
     "output_type": "stream",
     "text": [
      "tensor([[0.0900, 0.5000, 0.0000, 0.0700]], dtype=torch.float64)\n"
     ]
    },
    {
     "data": {
      "text/plain": [
       "(1, 4)"
      ]
     },
     "execution_count": 40,
     "metadata": {},
     "output_type": "execute_result"
    }
   ],
   "source": [
    "print(a1)\n",
    "\n",
    "b2 = np.array([[-0.2,0.1,0.3,-0.1]])\n",
    "b2.shape"
   ]
  },
  {
   "cell_type": "code",
   "execution_count": 41,
   "id": "81116286",
   "metadata": {},
   "outputs": [
    {
     "data": {
      "text/plain": [
       "array([[-0.2  ,  0.274,  0.031,  0.066]])"
      ]
     },
     "execution_count": 41,
     "metadata": {},
     "output_type": "execute_result"
    }
   ],
   "source": [
    "z2 = np.dot(a1,w2)+b2\n",
    "z2"
   ]
  },
  {
   "cell_type": "code",
   "execution_count": 42,
   "id": "a62f59d5",
   "metadata": {},
   "outputs": [
    {
     "data": {
      "text/plain": [
       "tensor([[0.0000, 0.2740, 0.0310, 0.0660]], dtype=torch.float64)"
      ]
     },
     "execution_count": 42,
     "metadata": {},
     "output_type": "execute_result"
    }
   ],
   "source": [
    "a2 = relu(z2)\n",
    "a2"
   ]
  },
  {
   "cell_type": "code",
   "execution_count": 43,
   "id": "6ac21ea2",
   "metadata": {},
   "outputs": [
    {
     "data": {
      "text/plain": [
       "((4, 2), (1, 2))"
      ]
     },
     "execution_count": 43,
     "metadata": {},
     "output_type": "execute_result"
    }
   ],
   "source": [
    "w3 = np.array([[0.2,-0.1],\n",
    "               [-0.3,0.5],\n",
    "               [0.6,-0.2],\n",
    "               [-0.1,0.4]])\n",
    "\n",
    "b3 = np.array([[0.1,-0.2]])\n",
    "w3.shape,b3.shape"
   ]
  },
  {
   "cell_type": "code",
   "execution_count": 44,
   "id": "851b24f0",
   "metadata": {},
   "outputs": [
    {
     "data": {
      "text/plain": [
       "array([[ 0.0298, -0.0428]])"
      ]
     },
     "execution_count": 44,
     "metadata": {},
     "output_type": "execute_result"
    }
   ],
   "source": [
    "z3 = np.dot(a2,w3)+b3\n",
    "z3"
   ]
  },
  {
   "cell_type": "code",
   "execution_count": 45,
   "id": "3142190d",
   "metadata": {},
   "outputs": [],
   "source": [
    "def softmax(y):\n",
    "    y = torch.from_numpy(y)\n",
    "    return torch.nn.functional.softmax(y)"
   ]
  },
  {
   "cell_type": "code",
   "execution_count": 46,
   "id": "53109283",
   "metadata": {},
   "outputs": [
    {
     "name": "stderr",
     "output_type": "stream",
     "text": [
      "C:\\Users\\Parthiban\\AppData\\Local\\Temp\\ipykernel_11540\\458418228.py:3: UserWarning: Implicit dimension choice for softmax has been deprecated. Change the call to include dim=X as an argument.\n",
      "  return torch.nn.functional.softmax(y)\n"
     ]
    },
    {
     "data": {
      "text/plain": [
       "(torch.Size([1, 2]), tensor([[0.5181, 0.4819]], dtype=torch.float64))"
      ]
     },
     "execution_count": 46,
     "metadata": {},
     "output_type": "execute_result"
    }
   ],
   "source": [
    "a3 = softmax(z3)\n",
    "a3.shape,a3"
   ]
  },
  {
   "cell_type": "code",
   "execution_count": 47,
   "id": "a250d072",
   "metadata": {},
   "outputs": [
    {
     "data": {
      "text/plain": [
       "(1, 2)"
      ]
     },
     "execution_count": 47,
     "metadata": {},
     "output_type": "execute_result"
    }
   ],
   "source": [
    "y = np.array([[0.00,1]])\n",
    "y.shape"
   ]
  },
  {
   "cell_type": "code",
   "execution_count": 59,
   "id": "28a8221f",
   "metadata": {},
   "outputs": [
    {
     "name": "stdout",
     "output_type": "stream",
     "text": [
      "torch.Size([1, 2])\n",
      "torch.Size([1, 2])\n",
      "tensor(0.8314, dtype=torch.float64)\n"
     ]
    },
    {
     "name": "stderr",
     "output_type": "stream",
     "text": [
      "C:\\Users\\Parthiban\\AppData\\Local\\Temp\\ipykernel_11540\\1943651765.py:1: UserWarning: To copy construct from a tensor, it is recommended to use sourceTensor.clone().detach() or sourceTensor.clone().detach().requires_grad_(True), rather than torch.tensor(sourceTensor).\n",
      "  y = torch.tensor(y)\n"
     ]
    }
   ],
   "source": [
    "y = torch.tensor(y)\n",
    "print(y.shape)\n",
    "print(a3.shape)\n",
    "import torch.nn as nn\n",
    "loss = nn.CrossEntropyLoss()\n",
    "\n",
    "print(loss(y,a3))"
   ]
  },
  {
   "cell_type": "code",
   "execution_count": 62,
   "id": "0b0b106f",
   "metadata": {},
   "outputs": [
    {
     "name": "stdout",
     "output_type": "stream",
     "text": [
      "tensor(0.7301, dtype=torch.float64)\n"
     ]
    },
    {
     "name": "stderr",
     "output_type": "stream",
     "text": [
      "C:\\Users\\Parthiban\\AppData\\Local\\Temp\\ipykernel_11540\\3520367850.py:3: UserWarning: To copy construct from a tensor, it is recommended to use sourceTensor.clone().detach() or sourceTensor.clone().detach().requires_grad_(True), rather than torch.tensor(sourceTensor).\n",
      "  pred = torch.tensor(pred)\n"
     ]
    }
   ],
   "source": [
    "def cross_entropy_loss(pred, target):\n",
    "   \n",
    "    pred = torch.tensor(pred)\n",
    "    loss = -torch.sum(target * torch.log(pred)) / pred.shape[0]\n",
    "    return loss\n",
    "\n",
    "l = cross_entropy_loss(a3, y)\n",
    "print(l)"
   ]
  },
  {
   "cell_type": "code",
   "execution_count": 63,
   "id": "ad7d3be4",
   "metadata": {},
   "outputs": [
    {
     "data": {
      "text/plain": [
       "tensor([[ 0.5181, -0.5181]], dtype=torch.float64)"
      ]
     },
     "execution_count": 63,
     "metadata": {},
     "output_type": "execute_result"
    }
   ],
   "source": [
    "dz3 = a3-y\n",
    "dz3"
   ]
  },
  {
   "cell_type": "code",
   "execution_count": 64,
   "id": "da524079",
   "metadata": {},
   "outputs": [
    {
     "data": {
      "text/plain": [
       "array([[ 0.        , -0.        ],\n",
       "       [ 0.14197092, -0.14197092],\n",
       "       [ 0.0160624 , -0.0160624 ],\n",
       "       [ 0.03419737, -0.03419737]])"
      ]
     },
     "execution_count": 64,
     "metadata": {},
     "output_type": "execute_result"
    }
   ],
   "source": [
    "dw3 = np.dot(np.transpose(a2),dz3)\n",
    "dw3"
   ]
  },
  {
   "cell_type": "code",
   "execution_count": 73,
   "id": "5fba9072",
   "metadata": {},
   "outputs": [],
   "source": [
    "z2 = np.array(z2)\n",
    "dz3 = np.array(dz3)\n",
    "w3 = np.array(w3)"
   ]
  },
  {
   "cell_type": "code",
   "execution_count": null,
   "id": "de4d6f11",
   "metadata": {},
   "outputs": [],
   "source": [
    "def relu_derivative(x):\n",
    "    return (x > 0).astype(float)\n",
    "   "
   ]
  },
  {
   "cell_type": "code",
   "execution_count": null,
   "id": "586130f0",
   "metadata": {},
   "outputs": [],
   "source": []
  },
  {
   "cell_type": "code",
   "execution_count": 79,
   "id": "7c521f23",
   "metadata": {},
   "outputs": [
    {
     "data": {
      "text/plain": [
       "array([[ 0.        , -0.41451363,  0.41451363, -0.25907102]])"
      ]
     },
     "execution_count": 79,
     "metadata": {},
     "output_type": "execute_result"
    }
   ],
   "source": [
    "dz2 = (np.dot(dz3,np.transpose(w3)))*relu_derivative(z2)\n",
    "dz2"
   ]
  },
  {
   "cell_type": "code",
   "execution_count": 75,
   "id": "289e2a5a",
   "metadata": {},
   "outputs": [
    {
     "data": {
      "text/plain": [
       "array([[ 0.51814203, -0.51814203]])"
      ]
     },
     "execution_count": 75,
     "metadata": {},
     "output_type": "execute_result"
    }
   ],
   "source": [
    "db3 = dz3\n",
    "db3"
   ]
  },
  {
   "cell_type": "code",
   "execution_count": 80,
   "id": "403fd6ec",
   "metadata": {},
   "outputs": [
    {
     "data": {
      "text/plain": [
       "array([[ 0.        , -0.03730623,  0.03730623, -0.02331639],\n",
       "       [ 0.        , -0.20725681,  0.20725681, -0.12953551],\n",
       "       [ 0.        , -0.        ,  0.        , -0.        ],\n",
       "       [ 0.        , -0.02901595,  0.02901595, -0.01813497]])"
      ]
     },
     "execution_count": 80,
     "metadata": {},
     "output_type": "execute_result"
    }
   ],
   "source": [
    "dw2 = np.dot(np.transpose(a1),dz2)\n",
    "dw2"
   ]
  },
  {
   "cell_type": "code",
   "execution_count": 83,
   "id": "5ab35b4b",
   "metadata": {},
   "outputs": [
    {
     "data": {
      "text/plain": [
       "array([[-0.00518142, -0.3834251 ,  0.        , -0.49223493]])"
      ]
     },
     "execution_count": 83,
     "metadata": {},
     "output_type": "execute_result"
    }
   ],
   "source": [
    "dz1 = np.dot(dz2,np.transpose(w2))*relu_derivative(z1)\n",
    "dz1"
   ]
  },
  {
   "cell_type": "code",
   "execution_count": 86,
   "id": "75bb967b",
   "metadata": {},
   "outputs": [
    {
     "data": {
      "text/plain": [
       "array([[ 0.        , -0.41451363,  0.41451363, -0.25907102]])"
      ]
     },
     "execution_count": 86,
     "metadata": {},
     "output_type": "execute_result"
    }
   ],
   "source": [
    "db2 = dz2\n",
    "db2"
   ]
  },
  {
   "cell_type": "code",
   "execution_count": 87,
   "id": "697b519f",
   "metadata": {},
   "outputs": [
    {
     "data": {
      "text/plain": [
       "array([[-0.00259071, -0.19171255,  0.        , -0.24611747],\n",
       "       [ 0.00103628,  0.07668502, -0.        ,  0.09844699]])"
      ]
     },
     "execution_count": 87,
     "metadata": {},
     "output_type": "execute_result"
    }
   ],
   "source": [
    "dw1 = np.dot(np.transpose(a0),dz1)\n",
    "dw1"
   ]
  },
  {
   "cell_type": "code",
   "execution_count": 88,
   "id": "7e694300",
   "metadata": {},
   "outputs": [
    {
     "data": {
      "text/plain": [
       "array([[-0.00518142, -0.3834251 ,  0.        , -0.49223493]])"
      ]
     },
     "execution_count": 88,
     "metadata": {},
     "output_type": "execute_result"
    }
   ],
   "source": [
    "db1 = dz1\n",
    "db1"
   ]
  },
  {
   "cell_type": "code",
   "execution_count": null,
   "id": "626c8dd6",
   "metadata": {},
   "outputs": [],
   "source": []
  }
 ],
 "metadata": {
  "kernelspec": {
   "display_name": "base",
   "language": "python",
   "name": "python3"
  },
  "language_info": {
   "codemirror_mode": {
    "name": "ipython",
    "version": 3
   },
   "file_extension": ".py",
   "mimetype": "text/x-python",
   "name": "python",
   "nbconvert_exporter": "python",
   "pygments_lexer": "ipython3",
   "version": "3.12.4"
  }
 },
 "nbformat": 4,
 "nbformat_minor": 5
}
