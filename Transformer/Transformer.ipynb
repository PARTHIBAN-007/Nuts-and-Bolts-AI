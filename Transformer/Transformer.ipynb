{
 "cells": [
  {
   "cell_type": "code",
   "execution_count": 2,
   "id": "2b9f9c6a",
   "metadata": {},
   "outputs": [
    {
     "data": {
      "text/plain": [
       "(torch.Size([3, 4]), torch.Size([3, 4]))"
      ]
     },
     "execution_count": 2,
     "metadata": {},
     "output_type": "execute_result"
    }
   ],
   "source": [
    "import torch\n",
    "import torch.nn.functional as F\n",
    "\n",
    "x = torch.tensor([\n",
    "    [1,0.5,-1,0.2],\n",
    "    [0.8,-0.3,0.6,1],\n",
    "    [-0.5,0.9,0.1,-0.8]\n",
    "])\n",
    "\n",
    "mha_output = torch.tensor([\n",
    "    [0.72,0.28,0.21,0.4],\n",
    "    [0.64,0.26,0.2,0.43],\n",
    "    [0.08,0.57,0.43,0.11]\n",
    "])\n",
    "\n",
    "x.shape, mha_output.shape"
   ]
  },
  {
   "cell_type": "code",
   "execution_count": 5,
   "id": "4e54deb4",
   "metadata": {},
   "outputs": [
    {
     "data": {
      "text/plain": [
       "tensor([[ 1.7200,  0.7800, -0.7900,  0.6000],\n",
       "        [ 1.4400, -0.0400,  0.8000,  1.4300],\n",
       "        [-0.4200,  1.4700,  0.5300, -0.6900]])"
      ]
     },
     "execution_count": 5,
     "metadata": {},
     "output_type": "execute_result"
    }
   ],
   "source": [
    "summ = x+mha_output\n",
    "summ"
   ]
  },
  {
   "cell_type": "code",
   "execution_count": 15,
   "id": "387724b1",
   "metadata": {},
   "outputs": [
    {
     "data": {
      "text/plain": [
       "tensor([[ 1.2740,  0.2258, -1.5249,  0.0251],\n",
       "        [ 0.8796, -1.5651, -0.1776,  0.8631],\n",
       "        [-0.7551,  1.4660,  0.3614, -1.0724]],\n",
       "       grad_fn=<NativeLayerNormBackward0>)"
      ]
     },
     "execution_count": 15,
     "metadata": {},
     "output_type": "execute_result"
    }
   ],
   "source": [
    "norm = torch.nn.LayerNorm(4)\n",
    "norm1 = norm(summ)\n",
    "norm1"
   ]
  },
  {
   "cell_type": "code",
   "execution_count": 19,
   "id": "9be0e351",
   "metadata": {},
   "outputs": [
    {
     "data": {
      "text/plain": [
       "(torch.Size([4, 8]), torch.Size([1, 8]))"
      ]
     },
     "execution_count": 19,
     "metadata": {},
     "output_type": "execute_result"
    }
   ],
   "source": [
    "ffn_w1 = torch.tensor([\n",
    "    [0.5,-0.2,0.8,0.1,-0.6,0.3,0.7,-0.4],\n",
    "    [0.2,0.9,-0.1,0.5,-0.3,0.6,-0.8,0.2],\n",
    "    [-0.7,0.4,0.6,-0.2,0.9,-0.1,0.3,0.5],\n",
    "    [0.1,-0.5,0.3,0.8,-0.4,0.7,-0.2,0.6],\n",
    "    \n",
    "])\n",
    "\n",
    "ffn_b1 = torch.tensor([[0.1,-0.2,0.3,-0.1,0.2,-0.3,0.1,0.4]])\n",
    "\n",
    "ffn_w1.shape,ffn_b1.shape"
   ]
  },
  {
   "cell_type": "code",
   "execution_count": 20,
   "id": "7a91fa62",
   "metadata": {},
   "outputs": [
    {
     "data": {
      "text/plain": [
       "tensor([[ 1.8521, -0.8741,  0.3892,  0.4654, -2.0146,  0.3877,  0.3487, -0.8118],\n",
       "        [ 0.4374, -2.2871,  1.3126, -0.0686, -0.3633, -0.3533,  1.7420,  0.1642],\n",
       "        [-0.3445,  1.9512, -0.5555, -0.3726,  0.9674, -0.4337, -1.2785,  0.5325]],\n",
       "       grad_fn=<AddBackward0>)"
      ]
     },
     "execution_count": 20,
     "metadata": {},
     "output_type": "execute_result"
    }
   ],
   "source": [
    "ffn1 = (norm1@ffn_w1)+ffn_b1\n",
    "ffn1"
   ]
  },
  {
   "cell_type": "code",
   "execution_count": 21,
   "id": "d9e597c0",
   "metadata": {},
   "outputs": [
    {
     "data": {
      "text/plain": [
       "tensor([[1.8521, 0.0000, 0.3892, 0.4654, 0.0000, 0.3877, 0.3487, 0.0000],\n",
       "        [0.4374, 0.0000, 1.3126, 0.0000, 0.0000, 0.0000, 1.7420, 0.1642],\n",
       "        [0.0000, 1.9512, 0.0000, 0.0000, 0.9674, 0.0000, 0.0000, 0.5325]],\n",
       "       grad_fn=<ReluBackward0>)"
      ]
     },
     "execution_count": 21,
     "metadata": {},
     "output_type": "execute_result"
    }
   ],
   "source": [
    "ffn_relu = torch.nn.functional.relu(ffn1)\n",
    "ffn_relu"
   ]
  },
  {
   "cell_type": "code",
   "execution_count": 23,
   "id": "76e00c84",
   "metadata": {},
   "outputs": [
    {
     "data": {
      "text/plain": [
       "(torch.Size([8, 4]), torch.Size([1, 4]))"
      ]
     },
     "execution_count": 23,
     "metadata": {},
     "output_type": "execute_result"
    }
   ],
   "source": [
    "ffn_w2 = torch.tensor([\n",
    "    [0.8,-0.1,0.4,0.2],\n",
    "    [-0.3,0.7,-0.2,0.5],\n",
    "    [0.6,-0.4,0.9,-0.1],\n",
    "    [0.1,0.5,-0.6,0.8],\n",
    "    [-0.5,0.3,0.2,-0.7],\n",
    "    [0.4,-0.2,0.7,0.1],\n",
    "    [-0.1,0.6,-0.3,0.9],\n",
    "    [0.7,0.2,-0.5,0.3]\n",
    "])\n",
    "\n",
    "ffn_b2 = torch.tensor([[-0.2,0.1,0.3,-0.1]])\n",
    "\n",
    "ffn_w2.shape,ffn_b2.shape"
   ]
  },
  {
   "cell_type": "code",
   "execution_count": 25,
   "id": "5162c4aa",
   "metadata": {},
   "outputs": [
    {
     "data": {
      "text/plain": [
       "tensor([[ 1.6820,  0.1234,  1.2787,  0.9563],\n",
       "        [ 0.8782,  0.6092,  1.0516,  1.4732],\n",
       "        [-0.8963,  1.8625, -0.1630,  0.3582]], grad_fn=<AddBackward0>)"
      ]
     },
     "execution_count": 25,
     "metadata": {},
     "output_type": "execute_result"
    }
   ],
   "source": [
    "ffn_out = (ffn_relu@ffn_w2)+ffn_b2\n",
    "ffn_out"
   ]
  },
  {
   "cell_type": "code",
   "execution_count": 27,
   "id": "e54988fd",
   "metadata": {},
   "outputs": [
    {
     "data": {
      "text/plain": [
       "tensor([[ 2.9559,  0.3492, -0.2462,  0.9814],\n",
       "        [ 1.7578, -0.9559,  0.8740,  2.3363],\n",
       "        [-1.6514,  3.3286,  0.1984, -0.7142]], grad_fn=<AddBackward0>)"
      ]
     },
     "execution_count": 27,
     "metadata": {},
     "output_type": "execute_result"
    }
   ],
   "source": [
    "summ2 = norm1 + ffn_out\n",
    "summ2"
   ]
  },
  {
   "cell_type": "code",
   "execution_count": 28,
   "id": "82b799f2",
   "metadata": {},
   "outputs": [
    {
     "data": {
      "text/plain": [
       "tensor([[ 1.6156, -0.5487, -1.0431, -0.0238],\n",
       "        [ 0.6062, -1.5733, -0.1036,  1.0708],\n",
       "        [-1.0372,  1.6229, -0.0491, -0.5366]],\n",
       "       grad_fn=<NativeLayerNormBackward0>)"
      ]
     },
     "execution_count": 28,
     "metadata": {},
     "output_type": "execute_result"
    }
   ],
   "source": [
    "norm2 = norm(summ2)\n",
    "norm2"
   ]
  },
  {
   "cell_type": "code",
   "execution_count": 29,
   "id": "f04e499d",
   "metadata": {},
   "outputs": [
    {
     "data": {
      "text/plain": [
       "tensor([[ 1.6156, -0.5487, -1.0431, -0.0238],\n",
       "        [ 0.6062, -1.5733, -0.1036,  1.0708],\n",
       "        [-1.0372,  1.6229, -0.0491, -0.5366]],\n",
       "       grad_fn=<NativeLayerNormBackward0>)"
      ]
     },
     "execution_count": 29,
     "metadata": {},
     "output_type": "execute_result"
    }
   ],
   "source": [
    "output  = norm2\n",
    "output"
   ]
  },
  {
   "cell_type": "code",
   "execution_count": null,
   "id": "493ae58e",
   "metadata": {},
   "outputs": [],
   "source": []
  }
 ],
 "metadata": {
  "kernelspec": {
   "display_name": "base",
   "language": "python",
   "name": "python3"
  },
  "language_info": {
   "codemirror_mode": {
    "name": "ipython",
    "version": 3
   },
   "file_extension": ".py",
   "mimetype": "text/x-python",
   "name": "python",
   "nbconvert_exporter": "python",
   "pygments_lexer": "ipython3",
   "version": "3.12.4"
  }
 },
 "nbformat": 4,
 "nbformat_minor": 5
}
