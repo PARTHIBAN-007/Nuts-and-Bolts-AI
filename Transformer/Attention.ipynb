{
 "cells": [
  {
   "cell_type": "code",
   "execution_count": 30,
   "id": "7d4a9f11",
   "metadata": {},
   "outputs": [
    {
     "data": {
      "text/plain": [
       "(torch.Size([5, 8]),\n",
       " torch.Size([8, 4]),\n",
       " torch.Size([8, 4]),\n",
       " torch.Size([8, 4]))"
      ]
     },
     "execution_count": 30,
     "metadata": {},
     "output_type": "execute_result"
    }
   ],
   "source": [
    "import torch\n",
    "\n",
    "input_embeddings = torch.tensor([[1,0,0,0,0,0,0,0],\n",
    "                         [0,1,0,0,0,0,0,0],\n",
    "                         [0,0,1,0,0,0,0,0],\n",
    "                         [0,0,0,1,0,0,0,0],\n",
    "                         [0,0,0,0,1,0,0,0]],dtype=torch.float32)\n",
    "\n",
    "\n",
    "wq = torch.tensor([[10,0,0,0],\n",
    "                   [10,0,0,0],\n",
    "                   [10,0,0,0],\n",
    "                   [0,10,0,0],\n",
    "                   [0,10,0,0],\n",
    "                   [0,0,0,0],\n",
    "                   [0,0,0,0],\n",
    "                   [0,0,0,0]],dtype=torch.float32)\n",
    "wk = torch.tensor([[2,0,0,0],\n",
    "                   [2,0,0,0],\n",
    "                   [2,0,0,0],\n",
    "                   [0,2,0,0],\n",
    "                   [0,2,0,0],\n",
    "                   [0,0,0,0],\n",
    "                   [0,0,0,0],\n",
    "                   [0,0,0,0]],dtype=torch.float32)\n",
    "wv = torch.tensor([[1,0,0,0],\n",
    "                   [0,1,0,0],\n",
    "                   [0,0,1,0],\n",
    "                   [0,0,0,1],\n",
    "                   [0,0,0,1],\n",
    "                   [0,0,0,0],\n",
    "                   [0,0,0,0],\n",
    "                   [0,0,0,0]],dtype=torch.float32)\n",
    "\n",
    "input_embeddings.shape,wq.shape,wk.shape,wv.shape"
   ]
  },
  {
   "cell_type": "code",
   "execution_count": 31,
   "id": "b474abe3",
   "metadata": {},
   "outputs": [
    {
     "name": "stdout",
     "output_type": "stream",
     "text": [
      "K tensor([[2., 0., 0., 0.],\n",
      "        [2., 0., 0., 0.],\n",
      "        [2., 0., 0., 0.],\n",
      "        [0., 2., 0., 0.],\n",
      "        [0., 2., 0., 0.]])\n",
      "Q tensor([[10.,  0.,  0.,  0.],\n",
      "        [10.,  0.,  0.,  0.],\n",
      "        [10.,  0.,  0.,  0.],\n",
      "        [ 0., 10.,  0.,  0.],\n",
      "        [ 0., 10.,  0.,  0.]])\n",
      "v tensor([[1., 0., 0., 0.],\n",
      "        [0., 1., 0., 0.],\n",
      "        [0., 0., 1., 0.],\n",
      "        [0., 0., 0., 1.],\n",
      "        [0., 0., 0., 1.]])\n"
     ]
    }
   ],
   "source": [
    "k = input_embeddings@wk\n",
    "q = input_embeddings@wq\n",
    "v = input_embeddings@wv\n",
    "print(\"K\",k)\n",
    "print(\"Q\",q)\n",
    "print(\"v\",v)"
   ]
  },
  {
   "cell_type": "code",
   "execution_count": 32,
   "id": "c63c76fd",
   "metadata": {},
   "outputs": [
    {
     "data": {
      "text/plain": [
       "tensor([[2., 2., 2., 0., 0.],\n",
       "        [0., 0., 0., 2., 2.],\n",
       "        [0., 0., 0., 0., 0.],\n",
       "        [0., 0., 0., 0., 0.]])"
      ]
     },
     "execution_count": 32,
     "metadata": {},
     "output_type": "execute_result"
    }
   ],
   "source": [
    "k_t = torch.transpose(k,0,1)\n",
    "k_t"
   ]
  },
  {
   "cell_type": "code",
   "execution_count": 33,
   "id": "872a53c0",
   "metadata": {},
   "outputs": [
    {
     "data": {
      "text/plain": [
       "tensor([[10., 10., 10.,  0.,  0.],\n",
       "        [10., 10., 10.,  0.,  0.],\n",
       "        [10., 10., 10.,  0.,  0.],\n",
       "        [ 0.,  0.,  0., 10., 10.],\n",
       "        [ 0.,  0.,  0., 10., 10.]])"
      ]
     },
     "execution_count": 33,
     "metadata": {},
     "output_type": "execute_result"
    }
   ],
   "source": [
    "scores = (q@k_t)/2\n",
    "scores"
   ]
  },
  {
   "cell_type": "code",
   "execution_count": 34,
   "id": "a98ff099",
   "metadata": {},
   "outputs": [
    {
     "name": "stdout",
     "output_type": "stream",
     "text": [
      "tensor([[0.3333, 0.3333, 0.3333, 0.0000, 0.0000],\n",
      "        [0.3333, 0.3333, 0.3333, 0.0000, 0.0000],\n",
      "        [0.3333, 0.3333, 0.3333, 0.0000, 0.0000],\n",
      "        [0.0000, 0.0000, 0.0000, 0.5000, 0.5000],\n",
      "        [0.0000, 0.0000, 0.0000, 0.5000, 0.5000]])\n"
     ]
    }
   ],
   "source": [
    "import torch.nn.functional as F\n",
    "\n",
    "softmax_output = F.softmax(scores, dim=1)\n",
    "\n",
    "attention = softmax_output.round(decimals=4)\n",
    "\n",
    "print(attention)"
   ]
  },
  {
   "cell_type": "code",
   "execution_count": 35,
   "id": "d429c910",
   "metadata": {},
   "outputs": [],
   "source": [
    "output = attention@v"
   ]
  },
  {
   "cell_type": "code",
   "execution_count": 36,
   "id": "27a2389f",
   "metadata": {},
   "outputs": [
    {
     "data": {
      "text/plain": [
       "tensor([[0.3333, 0.3333, 0.3333, 0.0000],\n",
       "        [0.3333, 0.3333, 0.3333, 0.0000],\n",
       "        [0.3333, 0.3333, 0.3333, 0.0000],\n",
       "        [0.0000, 0.0000, 0.0000, 1.0000],\n",
       "        [0.0000, 0.0000, 0.0000, 1.0000]])"
      ]
     },
     "execution_count": 36,
     "metadata": {},
     "output_type": "execute_result"
    }
   ],
   "source": [
    "output"
   ]
  }
 ],
 "metadata": {
  "kernelspec": {
   "display_name": "base",
   "language": "python",
   "name": "python3"
  },
  "language_info": {
   "codemirror_mode": {
    "name": "ipython",
    "version": 3
   },
   "file_extension": ".py",
   "mimetype": "text/x-python",
   "name": "python",
   "nbconvert_exporter": "python",
   "pygments_lexer": "ipython3",
   "version": "3.12.4"
  }
 },
 "nbformat": 4,
 "nbformat_minor": 5
}
