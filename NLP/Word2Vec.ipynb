{
 "cells": [
  {
   "cell_type": "code",
   "execution_count": 68,
   "id": "9f516e88",
   "metadata": {},
   "outputs": [],
   "source": [
    "text = \"the cat sat in the\"\n",
    "context = \"cat,on\"\n",
    "target = \"sat\""
   ]
  },
  {
   "cell_type": "code",
   "execution_count": 69,
   "id": "3e77d93d",
   "metadata": {},
   "outputs": [
    {
     "data": {
      "text/plain": [
       "((1, 5), (1, 5))"
      ]
     },
     "execution_count": 69,
     "metadata": {},
     "output_type": "execute_result"
    }
   ],
   "source": [
    "import numpy as np\n",
    "vcat = np.array([[0.00,1.00,0.00,0.00,0.00]])\n",
    "von = np.array([[0.00,0.00,0.00,1.00,0.00]])\n",
    "vcat.shape,von.shape"
   ]
  },
  {
   "cell_type": "code",
   "execution_count": 70,
   "id": "d6f00b79",
   "metadata": {},
   "outputs": [
    {
     "data": {
      "text/plain": [
       "((1, 5), array([[0., 1., 0., 1., 0.]]))"
      ]
     },
     "execution_count": 70,
     "metadata": {},
     "output_type": "execute_result"
    }
   ],
   "source": [
    "x = vcat+von\n",
    "\n",
    "x.shape,x"
   ]
  },
  {
   "cell_type": "code",
   "execution_count": 71,
   "id": "8fe0cb05",
   "metadata": {},
   "outputs": [
    {
     "data": {
      "text/plain": [
       "(5, 3)"
      ]
     },
     "execution_count": 71,
     "metadata": {},
     "output_type": "execute_result"
    }
   ],
   "source": [
    "w1 = np.array([[0.10,0.80,-0.30],\n",
    "             [0.90,-0.20,0.10],\n",
    "             [-0.50,0.40,0.60],\n",
    "             [-0.20,0.70,-0.5],\n",
    "             [0.2,0.8,-0.2]])\n",
    "\n",
    "w1.shape"
   ]
  },
  {
   "cell_type": "code",
   "execution_count": 72,
   "id": "7624c989",
   "metadata": {},
   "outputs": [
    {
     "data": {
      "text/plain": [
       "array([[ 0.7,  0.5, -0.4]])"
      ]
     },
     "execution_count": 72,
     "metadata": {},
     "output_type": "execute_result"
    }
   ],
   "source": [
    "h = np.dot(x,w1)\n",
    "h"
   ]
  },
  {
   "cell_type": "code",
   "execution_count": 73,
   "id": "a63124a1",
   "metadata": {},
   "outputs": [
    {
     "data": {
      "text/plain": [
       "(3, 5)"
      ]
     },
     "execution_count": 73,
     "metadata": {},
     "output_type": "execute_result"
    }
   ],
   "source": [
    "w2  = np.array([[0.40,-0.10,0.70,0.20,0.30],\n",
    "             [-0.20,0.30,-0.3,0.6,-0.4],           \n",
    "             [0.1,0.5,-0.2,0.1,0.8]])\n",
    "\n",
    "w2.shape"
   ]
  },
  {
   "cell_type": "code",
   "execution_count": 74,
   "id": "490c8c68",
   "metadata": {},
   "outputs": [
    {
     "data": {
      "text/plain": [
       "array([[ 0.14, -0.12,  0.42,  0.4 , -0.31]])"
      ]
     },
     "execution_count": 74,
     "metadata": {},
     "output_type": "execute_result"
    }
   ],
   "source": [
    "z = np.dot(h,w2)\n",
    "z"
   ]
  },
  {
   "cell_type": "code",
   "execution_count": 75,
   "id": "3355e10b",
   "metadata": {},
   "outputs": [
    {
     "name": "stdout",
     "output_type": "stream",
     "text": [
      "<class 'torch.Tensor'>\n"
     ]
    },
    {
     "name": "stderr",
     "output_type": "stream",
     "text": [
      "C:\\Users\\Parthiban\\AppData\\Local\\Temp\\ipykernel_10988\\2593924333.py:5: UserWarning: Implicit dimension choice for softmax has been deprecated. Change the call to include dim=X as an argument.\n",
      "  y_pred = torch.nn.functional.softmax(y_pred)\n"
     ]
    },
    {
     "data": {
      "text/plain": [
       "tensor([[0.1989, 0.1533, 0.2631, 0.2579, 0.1268]], dtype=torch.float64)"
      ]
     },
     "execution_count": 75,
     "metadata": {},
     "output_type": "execute_result"
    }
   ],
   "source": [
    "import torch\n",
    "\n",
    "y_pred = torch.from_numpy(np.array(z))\n",
    "print(type(y_pred))\n",
    "y_pred = torch.nn.functional.softmax(y_pred)\n",
    "y_pred"
   ]
  },
  {
   "cell_type": "code",
   "execution_count": 76,
   "id": "a57808d5",
   "metadata": {},
   "outputs": [
    {
     "data": {
      "text/plain": [
       "array([0, 0, 1, 0, 0])"
      ]
     },
     "execution_count": 76,
     "metadata": {},
     "output_type": "execute_result"
    }
   ],
   "source": [
    "target = np.array([0,0,1,0,0])\n",
    "target\n"
   ]
  },
  {
   "cell_type": "code",
   "execution_count": 77,
   "id": "7dbc5321",
   "metadata": {},
   "outputs": [
    {
     "data": {
      "text/plain": [
       "array([[0.19885698, 0.15332899, 0.2631136 , 0.25790361, 0.12679681]])"
      ]
     },
     "execution_count": 77,
     "metadata": {},
     "output_type": "execute_result"
    }
   ],
   "source": [
    "y_pred = np.array(y_pred)\n",
    "y_pred"
   ]
  },
  {
   "cell_type": "code",
   "execution_count": 78,
   "id": "3b49d278",
   "metadata": {},
   "outputs": [
    {
     "name": "stdout",
     "output_type": "stream",
     "text": [
      "1.3351693834154168\n"
     ]
    }
   ],
   "source": [
    "def cross_entropy_loss(y_true, y_pred):\n",
    "    return -np.sum(y_true * np.log(y_pred ))\n",
    "\n",
    "print(cross_entropy_loss(target,y_pred))"
   ]
  },
  {
   "cell_type": "code",
   "execution_count": 79,
   "id": "00479668",
   "metadata": {},
   "outputs": [
    {
     "data": {
      "text/plain": [
       "array([[ 0.19885698,  0.15332899, -0.7368864 ,  0.25790361,  0.12679681]])"
      ]
     },
     "execution_count": 79,
     "metadata": {},
     "output_type": "execute_result"
    }
   ],
   "source": [
    "dz = y_pred-target\n",
    "dz"
   ]
  },
  {
   "cell_type": "code",
   "execution_count": 80,
   "id": "dd1446d9",
   "metadata": {},
   "outputs": [
    {
     "data": {
      "text/plain": [
       "array([[ 0.13919989,  0.1073303 , -0.51582048,  0.18053252,  0.08875777],\n",
       "       [ 0.09942849,  0.0766645 , -0.3684432 ,  0.1289518 ,  0.06339841],\n",
       "       [-0.07954279, -0.0613316 ,  0.29475456, -0.10316144, -0.05071872]])"
      ]
     },
     "execution_count": 80,
     "metadata": {},
     "output_type": "execute_result"
    }
   ],
   "source": [
    "dw2  = np.dot(np.transpose(h),dz)\n",
    "dw2"
   ]
  },
  {
   "cell_type": "code",
   "execution_count": 81,
   "id": "770fe5dc",
   "metadata": {},
   "outputs": [
    {
     "data": {
      "text/plain": [
       "array([[-0.36199082,  0.33131666,  0.37115528]])"
      ]
     },
     "execution_count": 81,
     "metadata": {},
     "output_type": "execute_result"
    }
   ],
   "source": [
    "dh = np.dot(dz,np.transpose(w2))\n",
    "dh"
   ]
  },
  {
   "cell_type": "code",
   "execution_count": 82,
   "id": "d15d9998",
   "metadata": {},
   "outputs": [
    {
     "data": {
      "text/plain": [
       "array([[-0.        ,  0.        ,  0.        ],\n",
       "       [-0.36199082,  0.33131666,  0.37115528],\n",
       "       [-0.        ,  0.        ,  0.        ],\n",
       "       [-0.36199082,  0.33131666,  0.37115528],\n",
       "       [-0.        ,  0.        ,  0.        ]])"
      ]
     },
     "execution_count": 82,
     "metadata": {},
     "output_type": "execute_result"
    }
   ],
   "source": [
    "dw1 = np.dot(np.transpose(x),dh)\n",
    "dw1"
   ]
  },
  {
   "cell_type": "code",
   "execution_count": 83,
   "id": "193747b6",
   "metadata": {},
   "outputs": [
    {
     "data": {
      "text/plain": [
       "array([[ 0.39304001, -0.10536651,  0.72579102,  0.19097337,  0.29556211],\n",
       "       [-0.20497142,  0.29616678, -0.28157784,  0.59355241, -0.40316992],\n",
       "       [ 0.10397714,  0.50306658, -0.21473773,  0.10515807,  0.80253594]])"
      ]
     },
     "execution_count": 83,
     "metadata": {},
     "output_type": "execute_result"
    }
   ],
   "source": [
    "w2 = w2 - (0.05*dw2)\n",
    "w2"
   ]
  },
  {
   "cell_type": "code",
   "execution_count": 84,
   "id": "2c851e61",
   "metadata": {},
   "outputs": [
    {
     "data": {
      "text/plain": [
       "array([[ 0.1       ,  0.8       , -0.3       ],\n",
       "       [ 0.91809954, -0.21656583,  0.08144224],\n",
       "       [-0.5       ,  0.4       ,  0.6       ],\n",
       "       [-0.18190046,  0.68343417, -0.51855776],\n",
       "       [ 0.2       ,  0.8       , -0.2       ]])"
      ]
     },
     "execution_count": 84,
     "metadata": {},
     "output_type": "execute_result"
    }
   ],
   "source": [
    "w1 = w1 - (0.05*dw1)\n",
    "w1"
   ]
  },
  {
   "cell_type": "code",
   "execution_count": null,
   "id": "f57037d2",
   "metadata": {},
   "outputs": [],
   "source": []
  }
 ],
 "metadata": {
  "kernelspec": {
   "display_name": "base",
   "language": "python",
   "name": "python3"
  },
  "language_info": {
   "codemirror_mode": {
    "name": "ipython",
    "version": 3
   },
   "file_extension": ".py",
   "mimetype": "text/x-python",
   "name": "python",
   "nbconvert_exporter": "python",
   "pygments_lexer": "ipython3",
   "version": "3.12.4"
  }
 },
 "nbformat": 4,
 "nbformat_minor": 5
}
