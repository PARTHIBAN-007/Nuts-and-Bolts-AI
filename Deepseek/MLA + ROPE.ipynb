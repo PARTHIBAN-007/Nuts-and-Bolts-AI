{
 "cells": [
  {
   "cell_type": "code",
   "execution_count": 2,
   "id": "95f72c4f",
   "metadata": {},
   "outputs": [
    {
     "data": {
      "text/plain": [
       "(torch.Size([1, 8]), torch.Size([8, 3]), torch.Size([8, 2]))"
      ]
     },
     "execution_count": 2,
     "metadata": {},
     "output_type": "execute_result"
    }
   ],
   "source": [
    "import torch\n",
    "import torch.nn.functional as F\n",
    "\n",
    "ht = torch.tensor([[0.5,0.8,-0.2,0.1,0.9,-0.5,0.3,0.4]],dtype=float)\n",
    "\n",
    "w_dq = torch.tensor([\n",
    "    [1,0,1],\n",
    "    [0,1,0],\n",
    "    [-1,0,0],\n",
    "    [0,-1,1],\n",
    "    [1,1,0],\n",
    "    [0,0,1],\n",
    "    [0,1,0],\n",
    "    [-1,0,-1],\n",
    "],dtype=float)\n",
    "\n",
    "w_dkv = torch.tensor([\n",
    "    [1,0],\n",
    "    [0,1],\n",
    "    [1,0],\n",
    "    [0,1],\n",
    "    [0,0],\n",
    "    [0,0],\n",
    "    [1,1],\n",
    "    [-1,-1],\n",
    "],dtype=float)\n",
    "\n",
    "ht.shape, w_dq.shape , w_dkv.shape"
   ]
  },
  {
   "cell_type": "code",
   "execution_count": 3,
   "id": "72699c06",
   "metadata": {},
   "outputs": [
    {
     "data": {
      "text/plain": [
       "tensor([[ 1.2000,  1.9000, -0.3000]], dtype=torch.float64)"
      ]
     },
     "execution_count": 3,
     "metadata": {},
     "output_type": "execute_result"
    }
   ],
   "source": [
    "c_q = ht@w_dq\n",
    "c_q"
   ]
  },
  {
   "cell_type": "code",
   "execution_count": 4,
   "id": "c37dfe49",
   "metadata": {},
   "outputs": [
    {
     "data": {
      "text/plain": [
       "torch.Size([3, 4])"
      ]
     },
     "execution_count": 4,
     "metadata": {},
     "output_type": "execute_result"
    }
   ],
   "source": [
    "w_uq = torch.tensor([\n",
    "    [1,0,0,1],\n",
    "    [0,1,1,0],\n",
    "    [0,0,1,1],\n",
    "],dtype=float)\n",
    "w_uq.shape"
   ]
  },
  {
   "cell_type": "code",
   "execution_count": 5,
   "id": "9e61c1d1",
   "metadata": {},
   "outputs": [
    {
     "data": {
      "text/plain": [
       "tensor([[1.2000, 1.9000, 1.6000, 0.9000]], dtype=torch.float64)"
      ]
     },
     "execution_count": 5,
     "metadata": {},
     "output_type": "execute_result"
    }
   ],
   "source": [
    "q_c = c_q@w_uq\n",
    "q_c"
   ]
  },
  {
   "cell_type": "code",
   "execution_count": 6,
   "id": "d89c2aad",
   "metadata": {},
   "outputs": [
    {
     "data": {
      "text/plain": [
       "torch.Size([3, 2])"
      ]
     },
     "execution_count": 6,
     "metadata": {},
     "output_type": "execute_result"
    }
   ],
   "source": [
    "w_qr = torch.tensor([[0.8,-0.3],\n",
    "                     [0.2,0.9],\n",
    "                     [-0.5,0.1]],dtype=float)\n",
    "w_qr.shape"
   ]
  },
  {
   "cell_type": "code",
   "execution_count": 7,
   "id": "b05772ce",
   "metadata": {},
   "outputs": [
    {
     "data": {
      "text/plain": [
       "(tensor([[1.4900, 1.3200]], dtype=torch.float64),\n",
       " tensor([[-1.3200,  1.4900]], dtype=torch.float64))"
      ]
     },
     "execution_count": 7,
     "metadata": {},
     "output_type": "execute_result"
    }
   ],
   "source": [
    "q_r_pre = c_q@w_qr\n",
    "q_r_pos = torch.tensor([[-q_r_pre[0][1],q_r_pre[0][0]]])\n",
    "q_r_pre,q_r_pos"
   ]
  },
  {
   "cell_type": "code",
   "execution_count": 8,
   "id": "06293e0d",
   "metadata": {},
   "outputs": [
    {
     "data": {
      "text/plain": [
       "tensor([[ 1.2000,  1.9000,  1.6000,  0.9000, -1.3200,  1.4900]],\n",
       "       dtype=torch.float64)"
      ]
     },
     "execution_count": 8,
     "metadata": {},
     "output_type": "execute_result"
    }
   ],
   "source": [
    "q = torch.concat([q_c,q_r_pos],dim=1)\n",
    "q"
   ]
  },
  {
   "cell_type": "code",
   "execution_count": 9,
   "id": "b5945eb2",
   "metadata": {},
   "outputs": [
    {
     "data": {
      "text/plain": [
       "tensor([[0.2000, 0.8000]], dtype=torch.float64)"
      ]
     },
     "execution_count": 9,
     "metadata": {},
     "output_type": "execute_result"
    }
   ],
   "source": [
    "c_kv = ht@w_dkv\n",
    "c_kv"
   ]
  },
  {
   "cell_type": "code",
   "execution_count": 10,
   "id": "51298d04",
   "metadata": {},
   "outputs": [
    {
     "data": {
      "text/plain": [
       "(torch.Size([2, 4]), torch.Size([2, 4]))"
      ]
     },
     "execution_count": 10,
     "metadata": {},
     "output_type": "execute_result"
    }
   ],
   "source": [
    "w_uk = torch.tensor([\n",
    "    [1,0,1,0],\n",
    "    [0,1,0,1]\n",
    "],dtype=float)\n",
    "w_uv = torch.tensor([\n",
    "    [0,2,0,1],\n",
    "    [1,0,2,0],\n",
    "],dtype=float)\n",
    "\n",
    "w_uk.shape , w_uk.shape\n"
   ]
  },
  {
   "cell_type": "code",
   "execution_count": 11,
   "id": "7e130ca4",
   "metadata": {},
   "outputs": [
    {
     "data": {
      "text/plain": [
       "(tensor([[0.2000, 0.8000, 0.2000, 0.8000]], dtype=torch.float64),\n",
       " tensor([[0.8000, 0.4000, 1.6000, 0.2000]], dtype=torch.float64))"
      ]
     },
     "execution_count": 11,
     "metadata": {},
     "output_type": "execute_result"
    }
   ],
   "source": [
    "k_c = c_kv@w_uk\n",
    "v = c_kv@w_uv\n",
    "k_c,v"
   ]
  },
  {
   "cell_type": "code",
   "execution_count": 15,
   "id": "9130d43c",
   "metadata": {},
   "outputs": [
    {
     "data": {
      "text/plain": [
       "tensor([[ 0.9400, -0.2200]], dtype=torch.float64)"
      ]
     },
     "execution_count": 15,
     "metadata": {},
     "output_type": "execute_result"
    }
   ],
   "source": [
    "w_kr = torch.tensor([\n",
    "    [0.6,-0.1],\n",
    "    [0.1,0.7],\n",
    "    [0.4,-0.2],\n",
    "    [-0.3,0.8],\n",
    "    [0.2,-0.5],\n",
    "    [-0.6,0.3],\n",
    "    [0.9,0.1],\n",
    "    [-0.2,-0.7]\n",
    "],dtype=float)\n",
    "\n",
    "k_r_pre = ht@w_kr\n",
    "k_r_pre"
   ]
  },
  {
   "cell_type": "code",
   "execution_count": 23,
   "id": "89acc03e",
   "metadata": {},
   "outputs": [
    {
     "data": {
      "text/plain": [
       "tensor([[0.2200, 0.9400]], dtype=torch.float64)"
      ]
     },
     "execution_count": 23,
     "metadata": {},
     "output_type": "execute_result"
    }
   ],
   "source": [
    "k_r_pos = torch.tensor([[-k_r_pre[0][1],k_r_pre[0][0]]])\n",
    "k_r_pos"
   ]
  },
  {
   "cell_type": "code",
   "execution_count": 25,
   "id": "d5d20953",
   "metadata": {},
   "outputs": [
    {
     "data": {
      "text/plain": [
       "tensor([[0.2000, 0.8000, 0.2000, 0.8000, 0.2200, 0.9400]], dtype=torch.float64)"
      ]
     },
     "execution_count": 25,
     "metadata": {},
     "output_type": "execute_result"
    }
   ],
   "source": [
    "k  = torch.concat([k_c,k_r_pos],dim=1)\n",
    "k"
   ]
  },
  {
   "cell_type": "code",
   "execution_count": 26,
   "id": "7a0fe83f",
   "metadata": {},
   "outputs": [
    {
     "data": {
      "text/plain": [
       "tensor(6)"
      ]
     },
     "execution_count": 26,
     "metadata": {},
     "output_type": "execute_result"
    }
   ],
   "source": [
    "k_transpose= torch.transpose(k,dim0=0,dim1=1)\n",
    "d_k = torch.tensor(k.shape[1])\n",
    "d_k"
   ]
  },
  {
   "cell_type": "code",
   "execution_count": 27,
   "id": "34b980bf",
   "metadata": {},
   "outputs": [
    {
     "name": "stderr",
     "output_type": "stream",
     "text": [
      "C:\\Users\\Parthiban\\AppData\\Local\\Temp\\ipykernel_7124\\44781066.py:1: UserWarning: Implicit dimension choice for softmax has been deprecated. Change the call to include dim=X as an argument.\n",
      "  output = F.softmax((q@k_transpose)/torch.sqrt(d_k))@v\n"
     ]
    },
    {
     "data": {
      "text/plain": [
       "tensor([[0.8000, 0.4000, 1.6000, 0.2000]], dtype=torch.float64)"
      ]
     },
     "execution_count": 27,
     "metadata": {},
     "output_type": "execute_result"
    }
   ],
   "source": [
    "output = F.softmax((q@k_transpose)/torch.sqrt(d_k))@v\n",
    "output # Same output as MLA"
   ]
  },
  {
   "cell_type": "code",
   "execution_count": null,
   "id": "f3f3b564",
   "metadata": {},
   "outputs": [],
   "source": []
  }
 ],
 "metadata": {
  "kernelspec": {
   "display_name": "base",
   "language": "python",
   "name": "python3"
  },
  "language_info": {
   "codemirror_mode": {
    "name": "ipython",
    "version": 3
   },
   "file_extension": ".py",
   "mimetype": "text/x-python",
   "name": "python",
   "nbconvert_exporter": "python",
   "pygments_lexer": "ipython3",
   "version": "3.12.4"
  }
 },
 "nbformat": 4,
 "nbformat_minor": 5
}
