{
 "cells": [
  {
   "cell_type": "code",
   "execution_count": 6,
   "id": "79f636b2",
   "metadata": {},
   "outputs": [
    {
     "data": {
      "text/plain": [
       "(torch.Size([1, 8]), torch.Size([8, 4]), torch.Size([8, 2]))"
      ]
     },
     "execution_count": 6,
     "metadata": {},
     "output_type": "execute_result"
    }
   ],
   "source": [
    "import torch\n",
    "import torch.nn.functional as F\n",
    "\n",
    "ht = torch.tensor([[0.5,0.8,-0.2,0.1,0.9,-0.5,0.3,0.4]],dtype=float)\n",
    "\n",
    "wq = torch.tensor([\n",
    "    [1,0,0,0],\n",
    "    [0,1,0,0],\n",
    "    [0,0,1,0],\n",
    "    [0,0,0,1],\n",
    "    [1,0,1,0],\n",
    "    [0,1,0,1],\n",
    "    [-1,0,1,0],\n",
    "    [0,-1,0,1],\n",
    "],dtype=float)\n",
    "\n",
    "w_dkv = torch.tensor([\n",
    "    [1,0],\n",
    "    [0,1],\n",
    "    [1,0],\n",
    "    [0,1],\n",
    "    [0,0],\n",
    "    [0,0],\n",
    "    [1,1],\n",
    "    [-1,-1],\n",
    "],dtype=float)\n",
    "\n",
    "ht.shape, wq.shape , w_dkv.shape"
   ]
  },
  {
   "cell_type": "code",
   "execution_count": 7,
   "id": "31e31335",
   "metadata": {},
   "outputs": [
    {
     "data": {
      "text/plain": [
       "tensor([[ 1.1000, -0.1000,  1.0000,  0.0000]], dtype=torch.float64)"
      ]
     },
     "execution_count": 7,
     "metadata": {},
     "output_type": "execute_result"
    }
   ],
   "source": [
    "q = ht@wq\n",
    "q"
   ]
  },
  {
   "cell_type": "code",
   "execution_count": 8,
   "id": "a03be234",
   "metadata": {},
   "outputs": [
    {
     "data": {
      "text/plain": [
       "tensor([[0.2000, 0.8000]], dtype=torch.float64)"
      ]
     },
     "execution_count": 8,
     "metadata": {},
     "output_type": "execute_result"
    }
   ],
   "source": [
    "c_kv = ht@w_dkv\n",
    "c_kv"
   ]
  },
  {
   "cell_type": "code",
   "execution_count": 11,
   "id": "eb04563d",
   "metadata": {},
   "outputs": [
    {
     "data": {
      "text/plain": [
       "(torch.Size([2, 4]), torch.Size([2, 4]))"
      ]
     },
     "execution_count": 11,
     "metadata": {},
     "output_type": "execute_result"
    }
   ],
   "source": [
    "w_uk = torch.tensor([\n",
    "    [1,0,1,0],\n",
    "    [0,1,0,1]\n",
    "],dtype=float)\n",
    "w_uv = torch.tensor([\n",
    "    [0,2,0,1],\n",
    "    [1,0,2,0],\n",
    "],dtype=float)\n",
    "\n",
    "w_uk.shape , w_uk.shape\n"
   ]
  },
  {
   "cell_type": "code",
   "execution_count": 12,
   "id": "34df7b7c",
   "metadata": {},
   "outputs": [
    {
     "data": {
      "text/plain": [
       "(tensor([[0.2000, 0.8000, 0.2000, 0.8000]], dtype=torch.float64),\n",
       " tensor([[0.8000, 0.4000, 1.6000, 0.2000]], dtype=torch.float64))"
      ]
     },
     "execution_count": 12,
     "metadata": {},
     "output_type": "execute_result"
    }
   ],
   "source": [
    "k = c_kv@w_uk\n",
    "v = c_kv@w_uv\n",
    "k,v"
   ]
  },
  {
   "cell_type": "code",
   "execution_count": 16,
   "id": "e95bd7af",
   "metadata": {},
   "outputs": [
    {
     "data": {
      "text/plain": [
       "tensor(4)"
      ]
     },
     "execution_count": 16,
     "metadata": {},
     "output_type": "execute_result"
    }
   ],
   "source": [
    "k_transpose= torch.transpose(k,dim0=0,dim1=1)\n",
    "d_k = torch.tensor(k.shape[1])\n",
    "d_k"
   ]
  },
  {
   "cell_type": "code",
   "execution_count": 17,
   "id": "f93b32e4",
   "metadata": {},
   "outputs": [
    {
     "name": "stderr",
     "output_type": "stream",
     "text": [
      "C:\\Users\\Parthiban\\AppData\\Local\\Temp\\ipykernel_14788\\833891228.py:1: UserWarning: Implicit dimension choice for softmax has been deprecated. Change the call to include dim=X as an argument.\n",
      "  output = F.softmax((q@k_transpose)/torch.sqrt(d_k))@v\n"
     ]
    },
    {
     "data": {
      "text/plain": [
       "tensor([[0.8000, 0.4000, 1.6000, 0.2000]], dtype=torch.float64)"
      ]
     },
     "execution_count": 17,
     "metadata": {},
     "output_type": "execute_result"
    }
   ],
   "source": [
    "output = F.softmax((q@k_transpose)/torch.sqrt(d_k))@v\n",
    "output"
   ]
  },
  {
   "cell_type": "code",
   "execution_count": null,
   "id": "e15e38dc",
   "metadata": {},
   "outputs": [],
   "source": []
  }
 ],
 "metadata": {
  "kernelspec": {
   "display_name": "base",
   "language": "python",
   "name": "python3"
  },
  "language_info": {
   "codemirror_mode": {
    "name": "ipython",
    "version": 3
   },
   "file_extension": ".py",
   "mimetype": "text/x-python",
   "name": "python",
   "nbconvert_exporter": "python",
   "pygments_lexer": "ipython3",
   "version": "3.12.4"
  }
 },
 "nbformat": 4,
 "nbformat_minor": 5
}
